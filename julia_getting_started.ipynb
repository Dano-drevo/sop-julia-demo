{
 "cells": [
  {
   "cell_type": "markdown",
   "metadata": {},
   "source": [
    "**POZNÁMKA**: Toto je Julia _getting started_ demonštrácia s použítím Jupyter zápisníkov a Bindera.\n",
    "\n",
    "Binder je open-source projekt a Julia je v ňom už od raných začiatkov podporovaná.\n",
    "\n",
    "Tento(a iné) `Jupyter zápisníky` si môžete pozrieť a interaktívne spustiť [tu](https://mybinder.org/v2/gh/Dano-drevo/sop-julia-demo/master) alebo kliknutím na nasledujúce tlačidlo:\n",
    "\n",
    "[![Binder](https://mybinder.org/badge_logo.svg)](https://mybinder.org/v2/gh/Dano-drevo/sop-julia-demo/master?filepath=julia_getting_started.ipynb)"
   ]
  },
  {
   "cell_type": "markdown",
   "metadata": {},
   "source": [
    "#  Julia getting started"
   ]
  },
  {
   "cell_type": "markdown",
   "metadata": {},
   "source": [
    "Tento zápisník používa \"**IJuliu**\": [Julia](http://julialang.org/) kombinovaná s interaktívným prostredím zápisnikov Jupyter(niekďajší názov [IPython](http://ipython.org/)). Táto kombinácia nám dovoľuje interakciu s Juliu použitím mocných [\"grafických\" zápisnikov](http://ipython.org/notebook.html), ktoré kombinujú kód, formátovaný text, matematickú notáciu a multimédia v jedinom súbore."
   ]
  },
  {
   "cell_type": "markdown",
   "metadata": {},
   "source": [
    "## Základná interakcia s Juliou"
   ]
  },
  {
   "cell_type": "markdown",
   "metadata": {},
   "source": [
    "Začneme nestárnucou klasikou:\n"
   ]
  },
  {
   "cell_type": "code",
   "execution_count": null,
   "metadata": {},
   "outputs": [],
   "source": [
    "println(\"Hello world!\\n\")"
   ]
  },
  {
   "cell_type": "markdown",
   "metadata": {},
   "source": [
    "Základné matematické operácie fungujú, ako by sme čakali:"
   ]
  },
  {
   "cell_type": "code",
   "execution_count": null,
   "metadata": {},
   "outputs": [],
   "source": [
    "1 + sin(3)"
   ]
  },
  {
   "cell_type": "markdown",
   "metadata": {},
   "source": [
    "Môžete definovať premenné, písať cykly a spúšťať ľubovoľné viacradkové bloky kódu. Tu je príklad zahrňujúci odhad sumy alternujúceho harmonického radu $\\sum_{n=1}^\\infty \\frac{(-1)^n}{n}$ :"
   ]
  },
  {
   "cell_type": "code",
   "execution_count": null,
   "metadata": {},
   "outputs": [],
   "source": [
    "s = 0.0\n",
    "for n = 1:2:10000\n",
    "    s += 1/n - 1/(n+1)\n",
    "end\n",
    "s # výraz na poslednom riadku (ak nekončí bodkočiarkou/\"středníkom\") je vypísaný ako \"Out\""
   ]
  },
  {
   "cell_type": "markdown",
   "metadata": {},
   "source": [
    "K predchádzajúcim výstupom sa dá pristupovať v zvyšku zápisníka cez _Out[`*n*`]_, napríklad _Out[3]_ referuje výsledok posledného bloku kódu. Môžete použiť aj skratku _\\_2_ alebo `_` pre posledný výsledok. Ako v Matlabe, premenná _ans_ môže byť tiež použitá na referovanie posledného výsledku, *dokonca aj keď nebol vypísaný* (teda keď bol posledný príkaz ukončený s _;_).\n",
    "\n",
    "Napríklad, harmonický rad vyššie by mal konvergovať(pomaly) ku $\\ln 2$ a my sa na to môžeme pozrieť ako:"
   ]
  },
  {
   "cell_type": "code",
   "execution_count": null,
   "metadata": {},
   "outputs": [],
   "source": [
    "Out[2] - log(2)"
   ]
  },
  {
   "cell_type": "markdown",
   "metadata": {},
   "source": [
    "Môžeme definovať matice, ako v Matlabe."
   ]
  },
  {
   "cell_type": "code",
   "execution_count": null,
   "metadata": {},
   "outputs": [],
   "source": [
    "A = [1 2 3;4 5 6;7 8 9]"
   ]
  },
  {
   "cell_type": "code",
   "execution_count": null,
   "metadata": {},
   "outputs": [],
   "source": [
    "A[:,2:3]"
   ]
  },
  {
   "cell_type": "code",
   "execution_count": null,
   "metadata": {},
   "outputs": [],
   "source": [
    "minimum(A)"
   ]
  },
  {
   "cell_type": "markdown",
   "metadata": {},
   "source": [
    "Ako Matlab alebo Scipy + Numpy, Julia má veľa matematických funkcií a vbudovaný aparát lineárnej algebry. Napríklad, môžeme zadefinovať náhodnú maticu $R$ s rozmermi $500\\times500$ a sformovať pozitívne definitnú maticu $R^* R$:"
   ]
  },
  {
   "cell_type": "code",
   "execution_count": null,
   "metadata": {},
   "outputs": [],
   "source": [
    "R = rand(500,500)\n",
    "R' * R"
   ]
  },
  {
   "cell_type": "markdown",
   "metadata": {},
   "source": [
    "(Všimnite si, že defaultne sa zobrazí len časť matice.\n",
    "Štandardný výstup(`STDOUT`) z Julie je tiež zachytený a poslaný do IJulia zápisníka ako by sme čakali:"
   ]
  },
  {
   "cell_type": "markdown",
   "metadata": {},
   "source": [
    "## Funkcie"
   ]
  },
  {
   "cell_type": "markdown",
   "metadata": {},
   "source": [
    "Vo funkciách, ale aj v bežných cykloch musíte dbať na pôsobisko premennej, či je **lokálna** alebo **globálna**."
   ]
  },
  {
   "cell_type": "code",
   "execution_count": null,
   "metadata": {},
   "outputs": [],
   "source": [
    "a=b=c=0\n",
    "for i in collect(1:10)\n",
    "    global c=-100\n",
    "    local a = 0\n",
    "    for j in collect(1:10)\n",
    "        a+=1\n",
    "    end\n",
    "    if i == 10\n",
    "        # last iteration\n",
    "        println(a,\"\\n\\n\", b, \"\\n\\n\", c, \"\\n\\n\\n\")\n",
    "    end\n",
    "end\n",
    "\n",
    "for i in collect(1:10)\n",
    "    b += 1\n",
    "end\n",
    "println(a,\"\\n\\n\", b, \"\\n\\n\", c, \"\\n\\n\\n\")\n"
   ]
  },
  {
   "cell_type": "markdown",
   "metadata": {},
   "source": [
    "Je viacero spôsobov definície funkcií. Všimnite si deklaráciu dátoveho typu argumentu `::String`. "
   ]
  },
  {
   "cell_type": "code",
   "execution_count": null,
   "metadata": {},
   "outputs": [],
   "source": [
    "function nacitaj_vstup(otazka::String)\n",
    "    println(otazka)\n",
    "    vstup = readline(stdin)\n",
    "    return vstup\n",
    "end\n",
    "\n",
    "vstup = nacitaj_vstup(\"Nulou sa delit neda!!! Suhlasis ?\\n\")\n",
    "println(\"Nezalezi na tom ci vravis \", vstup, \" , lebo: \", 1/0)\n",
    "println(stderr, \"Error: no error !\\n\")"
   ]
  },
  {
   "cell_type": "markdown",
   "metadata": {},
   "source": [
    "Ak ako vstup použijeme iný objekt ako _String_, vyústi to v chybu."
   ]
  },
  {
   "cell_type": "code",
   "execution_count": null,
   "metadata": {},
   "outputs": [],
   "source": [
    "vstup = nacitaj_vstup(100)"
   ]
  },
  {
   "cell_type": "markdown",
   "metadata": {},
   "source": [
    "To môžeme vyriešiť definíciou funkcie pre všetky čísla všeobecne. Môžeme redefinovať tú istú funkciu pre iné dátove typy, ale výsledok je efektívnejší. Táto vlasnosť, ktorá je silnou súčasťou Julie sa nazýva [multiple dispatch](https://en.wikipedia.org/wiki/Multiple_dispatch)."
   ]
  },
  {
   "cell_type": "code",
   "execution_count": null,
   "metadata": {},
   "outputs": [],
   "source": [
    "nacitaj_vstup(dotaz::Number) = println(dotaz, \": Celkom ine, ze...\\n\")\n",
    "vstup = nacitaj_vstup(100)\n",
    "println(\"\\n--------------\\n\")\n",
    "vstup = nacitaj_vstup(\"Nulou sa delit vacsinou neda!!!\")\n"
   ]
  },
  {
   "cell_type": "markdown",
   "metadata": {},
   "source": [
    "Julia dokonca zachytí výstup z externých knižníc **C**(všimnite si, aké jednoduché je použiť Juliin príkaz `ccall` pre volanie príkazov z C):"
   ]
  },
  {
   "cell_type": "code",
   "execution_count": null,
   "metadata": {},
   "outputs": [],
   "source": [
    "ccall(:printf, Cint, (Ptr{UInt8},), \"Hello from C!!\\n\");"
   ]
  },
  {
   "cell_type": "markdown",
   "metadata": {},
   "source": [
    "Môžeme, samozrejme, zadefinovať funkcie a použiť ich neskôr, v nasledujúcich bunkách zápisníka:"
   ]
  },
  {
   "cell_type": "code",
   "execution_count": null,
   "metadata": {},
   "outputs": [],
   "source": [
    "f(x) = x .+ 1"
   ]
  },
  {
   "cell_type": "code",
   "execution_count": null,
   "metadata": {},
   "outputs": [],
   "source": [
    "println(f(3))\n",
    "f([1,1,2,3,5,8])"
   ]
  },
  {
   "cell_type": "markdown",
   "metadata": {},
   "source": [
    "Za poznámku stojí, že funkcia z poslednej bunky vypísala skalár na `STDOUT` a zároveň vrátila vektor ako výstup. Druhý riadok demonštruje schopnosť Julie vytvárať polymorfické funckie a používať vstavané operácie na poli.\n",
    "\n",
    "Na druhej strane, pridávanie reťazca k číslu nie je definované (nie je žiadna `+` operácia definovaná pre tieto typy, aj keď by sme ju mohli ľahko vytvoriť), a pokus spraviť to vyvrcholí v nasledujúcu chybu:"
   ]
  },
  {
   "cell_type": "code",
   "execution_count": null,
   "metadata": {},
   "outputs": [],
   "source": [
    "f(\"Hello?\")"
   ]
  },
  {
   "cell_type": "markdown",
   "metadata": {},
   "source": [
    "## Balíčky\n",
    "Balíčky/knižnice načítavame pomoco príkazu `using`. Ak si chcete stiahnuť nový balíček, musíte tak spraviť pomocou balíčku `Pkg` a to nasledujúcim spôsobom."
   ]
  },
  {
   "cell_type": "markdown",
   "metadata": {},
   "source": [
    "Chceme zistiť normu vektoru, no Juliine vstavané nástroje nestačia. Poslúži nám na to funkcia `norm()` z balíčka `Linear Algebra`, ktorý nainštalujeme pomocou balíčka `Pkg`."
   ]
  },
  {
   "cell_type": "code",
   "execution_count": null,
   "metadata": {},
   "outputs": [],
   "source": [
    "using Pkg\n",
    "\n",
    "# install package if it's not already installed\n",
    "Pkg.add(\"LinearAlgebra\")\n",
    "\n",
    "# load package\n",
    "using LinearAlgebra\n",
    "\n",
    "vector = [3,4]\n",
    "norma = norm(vector)\n",
    "println(\"\\n\\n\" ,\"Norma je: \", norma, \"\\n\\n\")\n",
    "\n",
    "# uninstall package\n",
    "Pkg.rm(\"LinearAlgebra\")"
   ]
  },
  {
   "cell_type": "markdown",
   "metadata": {},
   "source": [
    "# Demonštrácia riešenia optimalizačnej úlohy v Julii - Support Vector Machine\n",
    "Ak vás zaujíma ako reálne použiť Juliu na nejaký problém, neváhajte a pokračujte na druhú časť turoriálu: [Support Vector Machine optimization problem](SVM_jl.ipynb).\n"
   ]
  }
 ],
 "metadata": {
  "kernelspec": {
   "display_name": "Julia 1.1.0",
   "language": "julia",
   "name": "julia-1.1"
  },
  "language_info": {
   "file_extension": ".jl",
   "mimetype": "application/julia",
   "name": "julia",
   "version": "1.1.0"
  }
 },
 "nbformat": 4,
 "nbformat_minor": 2
}
