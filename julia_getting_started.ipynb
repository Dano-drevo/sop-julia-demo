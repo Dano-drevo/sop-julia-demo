{
 "cells": [
  {
   "cell_type": "markdown",
   "metadata": {},
   "source": [
    "**POZNÁMKA**: Toto je Julia 'getting started' demonštrácia s použítím Jupyter zápisníkov a Bindera.\n",
    "\n",
    "Binder je open-source projekt a Julia je v ňom už od raných začiatkov podporovaná."
   ]
  },
  {
   "cell_type": "markdown",
   "metadata": {},
   "source": [
    "#  Julia getting started"
   ]
  },
  {
   "cell_type": "markdown",
   "metadata": {},
   "source": [
    "Tento zápisník používa \"**IJuliu**\": [Julia](http://julialang.org/) kombinovaná s interaktívným prostredím zápisnikov Jupyter(niekďajší názov [IPython](http://ipython.org/)). Táto kombinácia nám dovoľuje interakciu s Juliu použitím mocných [\"grafických\" zápisnikov](http://ipython.org/notebook.html), ktoré kombinujú kód, formátovaný text, matematickú notáciu a multimédia v jedinom súbore."
   ]
  },
  {
   "cell_type": "markdown",
   "metadata": {},
   "source": [
    "## Základná interakcia s Juliou"
   ]
  },
  {
   "cell_type": "markdown",
   "metadata": {},
   "source": [
    "Začneme nestárnucou klasikou:\n"
   ]
  },
  {
   "cell_type": "code",
   "execution_count": 1,
   "metadata": {},
   "outputs": [
    {
     "name": "stdout",
     "output_type": "stream",
     "text": [
      "Hello world!\n",
      "\n"
     ]
    }
   ],
   "source": [
    "println(\"Hello world!\\n\")"
   ]
  },
  {
   "cell_type": "markdown",
   "metadata": {},
   "source": [
    "Základné matematické operácie fungujú, ako by sme čakali:"
   ]
  },
  {
   "cell_type": "code",
   "execution_count": 2,
   "metadata": {},
   "outputs": [
    {
     "data": {
      "text/plain": [
       "1.1411200080598671"
      ]
     },
     "execution_count": 2,
     "metadata": {},
     "output_type": "execute_result"
    }
   ],
   "source": [
    "1 + sin(3)"
   ]
  },
  {
   "cell_type": "markdown",
   "metadata": {},
   "source": [
    "Môžete definovať premenné, písať cykly a spúšťať ľubovoľné viacradkové bloky kódu. Tu je príklad zahrňujúci odhad sumy alternujúceho harmonického radu $\\sum_{n=1}^\\infty \\frac{(-1)^n}{n}$ :"
   ]
  },
  {
   "cell_type": "code",
   "execution_count": 3,
   "metadata": {},
   "outputs": [
    {
     "data": {
      "text/plain": [
       "0.6930971830599458"
      ]
     },
     "execution_count": 3,
     "metadata": {},
     "output_type": "execute_result"
    }
   ],
   "source": [
    "s = 0.0\n",
    "for n = 1:2:10000\n",
    "    s += 1/n - 1/(n+1)\n",
    "end\n",
    "s # výraz na poslednom riadku (ak nekončí bodkočiarkou/\"středníkom\") je vypísaný ako \"Out\""
   ]
  },
  {
   "cell_type": "markdown",
   "metadata": {},
   "source": [
    "K predchádzajúcim výstupom sa dá pristupovať v zvyšku zápisníka cez `Out[`*n*`]`, napríklad `Out[3]` referuje výsledok posledného bloku kódu. Môžete použiť aj skratku `_2` alebo `_` pre posledný výsledok. Ako v Matlabe, premenná `ans` môže byť tiež použitá na referovanie posledného výsledku, *dokonca aj keď nebol vypísaný* (teda keď bol posledný príkaz ukončený s `;`).\n",
    "\n",
    "Napríklad, harmonický rad vyššie by mal konvergovať(pomaly) ku $\\ln 2$ a my sa na to môžeme pozrieť ako:"
   ]
  },
  {
   "cell_type": "code",
   "execution_count": 4,
   "metadata": {},
   "outputs": [
    {
     "data": {
      "text/plain": [
       "0.44797282749992184"
      ]
     },
     "execution_count": 4,
     "metadata": {},
     "output_type": "execute_result"
    }
   ],
   "source": [
    "Out[2] - log(2)"
   ]
  },
  {
   "cell_type": "markdown",
   "metadata": {},
   "source": [
    "Ako Matlab alebo Scipy + Numpy, Julia má veľa matematických funkcií a vbudovaný aparát lineárnej algebry. Napríklad, môžeme zadefinovať náhodnú maticu $R$ s rozmermi $500\\times500$ a sformovať pozitívne definitnú maticu $R^* R$:"
   ]
  },
  {
   "cell_type": "code",
   "execution_count": 5,
   "metadata": {},
   "outputs": [
    {
     "data": {
      "text/plain": [
       "500×500 Array{Float64,2}:\n",
       " 166.288  126.83   131.798  127.602  …  129.048  127.714  129.533  129.746\n",
       " 126.83   176.782  129.243  130.1       132.381  130.096  130.852  127.843\n",
       " 131.798  129.243  172.649  130.149     129.715  131.087  127.269  131.438\n",
       " 127.602  130.1    130.149  169.12      129.402  127.494  124.606  129.795\n",
       " 123.68   122.661  124.149  119.22      124.853  125.54   123.115  121.791\n",
       " 123.524  127.17   125.825  126.301  …  125.221  127.823  127.606  125.55 \n",
       " 128.928  135.535  133.224  127.553     129.862  131.989  132.49   132.663\n",
       " 125.768  131.218  127.907  126.746     127.31   130.022  129.086  127.615\n",
       " 121.853  124.303  123.692  122.438     119.835  123.408  125.641  128.267\n",
       " 129.965  130.665  134.042  132.388     131.288  129.206  128.751  129.44 \n",
       " 127.94   135.768  128.712  126.35   …  129.209  134.65   131.257  131.085\n",
       " 119.21   123.238  123.284  122.977     122.415  124.993  124.272  121.456\n",
       " 116.351  121.859  121.395  121.958     117.84   119.629  115.908  122.585\n",
       "   ⋮                                 ⋱                                    \n",
       " 120.762  121.114  121.887  120.952     117.508  114.747  117.84   120.691\n",
       " 124.779  129.542  125.04   125.486     124.902  127.357  127.445  128.253\n",
       " 124.532  128.501  125.792  124.962  …  121.833  127.876  124.523  125.105\n",
       " 126.394  128.96   131.133  131.584     129.692  124.609  124.862  127.804\n",
       " 121.824  127.583  128.388  126.473     123.653  126.39   124.039  126.154\n",
       " 125.587  124.812  130.307  126.472     128.182  125.28   127.706  129.525\n",
       " 126.987  132.24   128.433  130.153     128.094  129.083  128.035  129.888\n",
       " 121.724  126.188  119.67   119.67   …  120.205  126.125  119.143  120.829\n",
       " 129.048  132.381  129.715  129.402     168.704  127.833  128.66   128.234\n",
       " 127.714  130.096  131.087  127.494     127.833  172.273  132.907  128.116\n",
       " 129.533  130.852  127.269  124.606     128.66   132.907  170.169  129.945\n",
       " 129.746  127.843  131.438  129.795     128.234  128.116  129.945  170.833"
      ]
     },
     "execution_count": 5,
     "metadata": {},
     "output_type": "execute_result"
    }
   ],
   "source": [
    "R = rand(500,500)\n",
    "R' * R"
   ]
  },
  {
   "cell_type": "markdown",
   "metadata": {},
   "source": [
    "(Všimnite si, že defaultne sa zobrazí len časť matice.\n",
    "Štandardný výstup(`STDOUT`) z Julie je tiež zachytený a poslaný do IJulia zápisníka ako by sme čakali:"
   ]
  },
  {
   "cell_type": "markdown",
   "metadata": {},
   "source": [
    "Vo funkciách, ale aj v bežných cykloch musíte dbať na pôsobisko premennej, či je lokálna alebo globálna."
   ]
  },
  {
   "cell_type": "code",
   "execution_count": 30,
   "metadata": {},
   "outputs": [
    {
     "name": "stdout",
     "output_type": "stream",
     "text": [
      "10\n",
      "\n",
      "0\n",
      "\n",
      "-100\n",
      "\n",
      "\n",
      "\n",
      "0\n",
      "\n",
      "10\n",
      "\n",
      "-100\n",
      "\n",
      "\n",
      "\n"
     ]
    }
   ],
   "source": [
    "a=b=c=0\n",
    "for i in collect(1:10)\n",
    "    global c=-100\n",
    "    local a = 0\n",
    "    for j in collect(1:10)\n",
    "        a+=1\n",
    "    end\n",
    "    if i == 10\n",
    "        # last iteration\n",
    "        println(a,\"\\n\\n\", b, \"\\n\\n\", c, \"\\n\\n\\n\")\n",
    "    end\n",
    "end\n",
    "\n",
    "for i in collect(1:10)\n",
    "    b += 1\n",
    "end\n",
    "println(a,\"\\n\\n\", b, \"\\n\\n\", c, \"\\n\\n\\n\")\n"
   ]
  },
  {
   "cell_type": "code",
   "execution_count": 19,
   "metadata": {},
   "outputs": [
    {
     "data": {
      "text/plain": [
       "1"
      ]
     },
     "execution_count": 19,
     "metadata": {},
     "output_type": "execute_result"
    }
   ],
   "source": [
    "b\n"
   ]
  },
  {
   "cell_type": "markdown",
   "metadata": {},
   "source": [
    "Je viacero spôsobov definície funkcií."
   ]
  },
  {
   "cell_type": "code",
   "execution_count": 7,
   "metadata": {},
   "outputs": [
    {
     "name": "stdout",
     "output_type": "stream",
     "text": [
      "Nulou sa delit neda!!!\n",
      "stdin> lal\n",
      "nezalezi na tom ci vravis lal , lebo Inf\n"
     ]
    },
    {
     "name": "stderr",
     "output_type": "stream",
     "text": [
      "Error: no error !...\n",
      "\n"
     ]
    }
   ],
   "source": [
    "function nacitaj_vstup(otazka::String)\n",
    "    println(otazka)\n",
    "    vstup = readline(stdin)\n",
    "    return vstup\n",
    "end\n",
    "\n",
    "vstup = nacitaj_vstup(\"Nulou sa delit neda!!!\")\n",
    "println(\"nezalezi na tom ci vravis \", vstup, \" , lebo \", 1/0)\n",
    "println(stderr, \"Error: no error !...\\n\")"
   ]
  },
  {
   "cell_type": "code",
   "execution_count": 8,
   "metadata": {},
   "outputs": [
    {
     "ename": "MethodError",
     "evalue": "MethodError: no method matching nacitaj_vstup(::Int64)\nClosest candidates are:\n  nacitaj_vstup(!Matched::String) at In[7]:2",
     "output_type": "error",
     "traceback": [
      "MethodError: no method matching nacitaj_vstup(::Int64)\nClosest candidates are:\n  nacitaj_vstup(!Matched::String) at In[7]:2",
      "",
      "Stacktrace:",
      " [1] top-level scope at In[8]:1"
     ]
    }
   ],
   "source": [
    "vstup = nacitaj_vstup(100)"
   ]
  },
  {
   "cell_type": "code",
   "execution_count": 9,
   "metadata": {},
   "outputs": [
    {
     "name": "stdout",
     "output_type": "stream",
     "text": [
      "100 Celkom ine, ze...\n",
      "\n",
      "Nulou sa delit vacsinou neda!!!\n",
      "stdin> lel\n"
     ]
    },
    {
     "data": {
      "text/plain": [
       "\"lel\""
      ]
     },
     "execution_count": 9,
     "metadata": {},
     "output_type": "execute_result"
    }
   ],
   "source": [
    "nacitaj_vstup(dotaz::Number) = println(dotaz, \" Celkom ine, ze...\\n\")\n",
    "vstup = nacitaj_vstup(100)\n",
    "vstup = nacitaj_vstup(\"Nulou sa delit vacsinou neda!!!\")\n"
   ]
  },
  {
   "cell_type": "markdown",
   "metadata": {},
   "source": [
    "Julia dokonca zachytí výstup z externých knižníc C (všimnite si, aké jednoduché je použiť Juliin príkaz `ccall` pre volanie príkazov z C):"
   ]
  },
  {
   "cell_type": "code",
   "execution_count": 10,
   "metadata": {},
   "outputs": [
    {
     "name": "stdout",
     "output_type": "stream",
     "text": [
      "Hello from C!!\n"
     ]
    }
   ],
   "source": [
    "ccall(:printf, Cint, (Ptr{UInt8},), \"Hello from C!!\\n\");"
   ]
  },
  {
   "cell_type": "markdown",
   "metadata": {},
   "source": [
    "Môžeme, samozrejme, zadefinovať funkcie a použiť ich neskôr, v nasledujúcich bunkách zápisníka:"
   ]
  },
  {
   "cell_type": "code",
   "execution_count": 11,
   "metadata": {},
   "outputs": [
    {
     "data": {
      "text/plain": [
       "f (generic function with 1 method)"
      ]
     },
     "execution_count": 11,
     "metadata": {},
     "output_type": "execute_result"
    }
   ],
   "source": [
    "f(x) = x .+ 1"
   ]
  },
  {
   "cell_type": "code",
   "execution_count": 12,
   "metadata": {},
   "outputs": [
    {
     "name": "stdout",
     "output_type": "stream",
     "text": [
      "4\n"
     ]
    },
    {
     "data": {
      "text/plain": [
       "6-element Array{Int64,1}:\n",
       " 2\n",
       " 2\n",
       " 3\n",
       " 4\n",
       " 6\n",
       " 9"
      ]
     },
     "execution_count": 12,
     "metadata": {},
     "output_type": "execute_result"
    }
   ],
   "source": [
    "println(f(3))\n",
    "f([1,1,2,3,5,8])"
   ]
  },
  {
   "cell_type": "markdown",
   "metadata": {},
   "source": [
    "Za poznámku stojí, že funkcia z poslednej bunky vypísala skalár na `STDOUT` a zároveň vrátila vektor ako výstup. Druhý riadok demonštruje schopnosť Julie vytvárať polymorfické funckie a používať vstavané operácie na poli.\n",
    "\n",
    "Na druhej strane, pridávanie reťazca k číslu nie je definované (nie je žiadna `+` operácia definovaná pre tieto typy, aj keď by sme ju mohli ľahko vytvoriť), a pokus spraviť to vyvrcholí v nasledujúcu chybu:"
   ]
  },
  {
   "cell_type": "code",
   "execution_count": 13,
   "metadata": {},
   "outputs": [
    {
     "ename": "MethodError",
     "evalue": "MethodError: no method matching +(::String, ::Int64)\nClosest candidates are:\n  +(::Any, ::Any, !Matched::Any, !Matched::Any...) at operators.jl:502\n  +(!Matched::Complex{Bool}, ::Real) at complex.jl:292\n  +(!Matched::Missing, ::Number) at missing.jl:97\n  ...",
     "output_type": "error",
     "traceback": [
      "MethodError: no method matching +(::String, ::Int64)\nClosest candidates are:\n  +(::Any, ::Any, !Matched::Any, !Matched::Any...) at operators.jl:502\n  +(!Matched::Complex{Bool}, ::Real) at complex.jl:292\n  +(!Matched::Missing, ::Number) at missing.jl:97\n  ...",
      "",
      "Stacktrace:",
      " [1] _broadcast_getindex_evalf at ./broadcast.jl:578 [inlined]",
      " [2] _broadcast_getindex at ./broadcast.jl:551 [inlined]",
      " [3] getindex at ./broadcast.jl:511 [inlined]",
      " [4] copy at ./broadcast.jl:763 [inlined]",
      " [5] materialize at ./broadcast.jl:753 [inlined]",
      " [6] f(::String) at ./In[11]:1",
      " [7] top-level scope at In[13]:1"
     ]
    }
   ],
   "source": [
    "f(\"Hello?\")"
   ]
  },
  {
   "cell_type": "markdown",
   "metadata": {},
   "source": [
    "Môžeme definovať matice, ako v Matlabe."
   ]
  },
  {
   "cell_type": "code",
   "execution_count": 14,
   "metadata": {},
   "outputs": [
    {
     "data": {
      "text/plain": [
       "3×3 Array{Int64,2}:\n",
       " 1  2  3\n",
       " 4  5  6\n",
       " 7  8  9"
      ]
     },
     "execution_count": 14,
     "metadata": {},
     "output_type": "execute_result"
    }
   ],
   "source": [
    "A = [1 2 3;4 5 6;7 8 9]"
   ]
  },
  {
   "cell_type": "code",
   "execution_count": 15,
   "metadata": {},
   "outputs": [
    {
     "data": {
      "text/plain": [
       "3×2 Array{Int64,2}:\n",
       " 2  3\n",
       " 5  6\n",
       " 8  9"
      ]
     },
     "execution_count": 15,
     "metadata": {},
     "output_type": "execute_result"
    }
   ],
   "source": [
    "A[:,2:3]"
   ]
  },
  {
   "cell_type": "code",
   "execution_count": 17,
   "metadata": {},
   "outputs": [
    {
     "data": {
      "text/plain": [
       "1"
      ]
     },
     "execution_count": 17,
     "metadata": {},
     "output_type": "execute_result"
    }
   ],
   "source": [
    "minimum(A)"
   ]
  },
  {
   "cell_type": "code",
   "execution_count": null,
   "metadata": {},
   "outputs": [],
   "source": []
  }
 ],
 "metadata": {
  "kernelspec": {
   "display_name": "Julia 1.1.0",
   "language": "julia",
   "name": "julia-1.1"
  },
  "language_info": {
   "file_extension": ".jl",
   "mimetype": "application/julia",
   "name": "julia",
   "version": "1.1.0"
  }
 },
 "nbformat": 4,
 "nbformat_minor": 2
}
