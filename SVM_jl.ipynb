{
 "cells": [
  {
   "cell_type": "markdown",
   "metadata": {},
   "source": [
    "_Toto je demonštratívne riešenie optimalizačného problému pomocou jazyku Julia a ide o druhú časť tutoriálu_ [Julia-getting started](julia_getting_started.ipynb)."
   ]
  },
  {
   "cell_type": "markdown",
   "metadata": {},
   "source": [
    "# Support Vector Machine optimization problem"
   ]
  },
  {
   "cell_type": "markdown",
   "metadata": {},
   "source": [
    "## Teoretický úvod"
   ]
  },
  {
   "cell_type": "markdown",
   "metadata": {},
   "source": [
    "V tomto zápisníku si naprogramujeme optimalizačný problém **Support Vector Machine(SVM)**, teda metódu podporných vektorov. Naša úloha je [klasifikovať](https://cs.wikipedia.org/wiki/Klasifikace_(um%C4%9Bl%C3%A1_inteligence)) dáta do 2 skupín na základe nášho vstupného trénovacieho datasetu, teda množiny, už takto oklasifikovaných dát. Túto úlohu z demonštratívnych dôvodov skonštruujeme v 2D."
   ]
  },
  {
   "cell_type": "markdown",
   "metadata": {},
   "source": [
    "Predstavme si teda, že máme trénovací dataset, ktorý vieme jednoznačne rozdeliť na dve skupiny dát, povedzme s vlastnosťou $y_1$ a $y_2$. Celá táto úloha slúži na vytvorenie modelu, pomocou ktorého budeme môcť rôzne dáta oklasifikovať, teda rozhodnúť, či majú vlastnosť $y_1$ alebo $y_2$."
   ]
  },
  {
   "cell_type": "markdown",
   "metadata": {},
   "source": [
    "Rozdelený dataset s vlastnosťami $y_1$ a $y_2$  v 2D môžeme interpretovať ako 2 množiny bodov v rovine:"
   ]
  },
  {
   "cell_type": "markdown",
   "metadata": {},
   "source": [
    "Príklad v $R^2$:<img src=\"images/img1.png\" style=\"width: 400px;\">"
   ]
  },
  {
   "cell_type": "markdown",
   "metadata": {},
   "source": [
    "Na klasifikáciu dát použijeme [lineárny klasifikátor](https://en.wikipedia.org/wiki/Linear_classifier) a pokúsime sa náš trénovací dataset rozdeliť nadrovinou(v 2D priamka), tak aby, čo najlepšie rozdeľovala dáta s vlastnosťou $y_1$ od dát s vlasnosťou $y_2$. Nadrovín, ktoré rozdeľujú dáta môže byť viac:\n",
    "<img src=\"images/img2.png\" style=\"width: 400px;\">"
   ]
  },
  {
   "cell_type": "markdown",
   "metadata": {},
   "source": [
    "Náš cieľ je teda nájsť rovnicu priamky, ktorá najlepšie oddeľuje tieto 2 skupiny bodov. Rovnica nadroviny $H_i$ je $\\underline{\\omega_i}\\cdot\\underline{x}+b_i=0$, kde $\\underline{\\omega_i}$ je normálový vektor danej nadroviny a $\\underline{x}$ je ľubovolný bod z uvažovaného priestoru. Táto rovnica v 2D splýva s rovnicou priamky $ax+by+c=0$"
   ]
  },
  {
   "cell_type": "markdown",
   "metadata": {},
   "source": [
    "Nech existuje nami hľadaná nadrovina rozdeĺujúca náš dataset s rovnicou $\\underline{\\omega}\\cdot\\underline{x}+b=0$. Potom môžeme zadefinovať nadroviny na hraniciach $y_1$ množiny a $y_2$ množiny, ako:\n",
    "$$\\underline{\\omega_{y_1}}\\cdot\\underline{x}+b_{y_1}=\\delta$$\n",
    "$$\\underline{\\omega_{y_2}}\\cdot\\underline{x}+b_{y_2}=-\\delta$$"
   ]
  },
  {
   "cell_type": "markdown",
   "metadata": {},
   "source": [
    "Pre zjednodušenie môžeme za $\\delta$ položiť $1$ a ilustrovať to na nasledujúcom obrázku:"
   ]
  },
  {
   "cell_type": "markdown",
   "metadata": {},
   "source": [
    "<img src=\"images/img3.png\" style=\"width: 400px;\">"
   ]
  },
  {
   "cell_type": "markdown",
   "metadata": {},
   "source": [
    "Po [odvodení](https://www.svm-tutorial.com/2015/06/svm-understanding-math-part-3/), ktoré pre krátkosť a zameranie tohto textu nebudeme uvádzať, zistíme, že šírka pásu oddeľujúceho tieto 2 nadroviny je $\\frac{2}{||\\omega||}$. Ak chceme maximalizovať šírku tohto pásu, musíme minimalizovať prevrátenú hodnotu, teda $\\frac{1}{2}||\\omega||$. Tak sa konečne dostávame k samotnej optimalizačnej úlohe."
   ]
  },
  {
   "cell_type": "markdown",
   "metadata": {},
   "source": [
    "## Formulácia problému"
   ]
  },
  {
   "cell_type": "markdown",
   "metadata": {},
   "source": [
    "Položme \n",
    "$$\n",
    " f(\\underline{x}) =\\begin{cases}\n",
    "    1       & \\quad \\text{ak } \\underline{x}\\in y_1 (\\text{má vlasnosť }y_1)\\\\\n",
    "    -1      & \\quad \\text{ak } \\underline{x}\\in y_2 (\\text{má vlasnosť }y_2)\\end{cases}\n",
    "$$\n",
    "čím matematicky vyjadríme príslušnosť bodu k množine s danou vlastnosťou. Potom môžeme náš optimalizačný problém pre $n$ bodov zadefinovať nasledovne:"
   ]
  },
  {
   "cell_type": "markdown",
   "metadata": {},
   "source": [
    "$${\\text{minimize}} \\quad\\frac{1}{2}||\\omega||^2$$\n",
    "$${\\text{subject to}} \\quad f(\\underline{x_i})(\\underline{\\omega}\\cdot\\underline{x_i}+b) \\ge 1\\qquad for\\ i = 1,\\ldots,n$$"
   ]
  },
  {
   "cell_type": "markdown",
   "metadata": {},
   "source": [
    "Kvadrátom $\\omega$ zaručíme konvexnosť problém, a teda jedinečné globálne minimum, $\\underline{\\text{ak existuje}}$. Nemáme totiž zaručenú existenciu riešenia. Tento model sa nazýva tzv. \"_Hard Margin SVM_\""
   ]
  },
  {
   "cell_type": "markdown",
   "metadata": {},
   "source": [
    "Teraz už len ostáva to naprogramovať a nechať Juliu robiť svoju práci."
   ]
  },
  {
   "cell_type": "markdown",
   "metadata": {},
   "source": [
    "## Implementácia v Julii"
   ]
  },
  {
   "cell_type": "markdown",
   "metadata": {},
   "source": [
    "### Vstupné dáta - trénovací dataset a jeho zobrazenie pomocou balíčku Plots"
   ]
  },
  {
   "cell_type": "markdown",
   "metadata": {},
   "source": [
    "Najprv vygenerujeme náš testovací dataset. Použijeme na to pomocnú funkciu zadefinovanú v inom Julia súbore. Všetky 3 pomocné funkcie použité v tomto deme si môžete pozrieť [tu](SVM_utils_jl.ipynb)."
   ]
  },
  {
   "cell_type": "code",
   "execution_count": 1,
   "metadata": {},
   "outputs": [],
   "source": [
    "include(\"SVM_utils.jl\")\n",
    "accurancy = 10e-2\n",
    "\n",
    "y1_data_first = generate_2D_dataset(5, (0,4), (0, 5), accurancy)\n",
    "y1_data_between = generate_2D_dataset(10, (5,15), (4, 8), accurancy)\n",
    "y1_data_last = generate_2D_dataset(5, (16,20), (9, 15), accurancy )\n",
    "y1_data = [y1_data_first; y1_data_between; y1_data_last]\n",
    "\n",
    "y2_data_first = generate_2D_dataset(5, (0,4), (9, 15), accurancy)\n",
    "y2_data_between = generate_2D_dataset(10, (5,15), (12, 19), accurancy)\n",
    "y2_data_last = generate_2D_dataset(5, (16,20), (16, 18), accurancy )\n",
    "y2_data = [y2_data_first; y2_data_between; y2_data_last];"
   ]
  },
  {
   "cell_type": "markdown",
   "metadata": {},
   "source": [
    "**POZNÁMKA**: _Pozor, ak si skúšate generovať nové vlastné dáta interaktívnym spustením tohto bloku kódu, je možné, že takto vygenerované dáta nebude možné lineárne rozdeliť a žiadne prípustné riešenie nebude existovať. Každopádne, aj v tom prípade je zaujímavé vidieť, čo sa stane a ako to dopadne s naším problémom. Eventuálne spúšťajte kód \"kým sa to nepodarí\"._\n"
   ]
  },
  {
   "cell_type": "markdown",
   "metadata": {},
   "source": [
    "Keď nami náhodne vygenerované dáta hodíme do grafu, vyzerá to takto: "
   ]
  },
  {
   "cell_type": "code",
   "execution_count": 2,
   "metadata": {},
   "outputs": [
    {
     "data": {
      "text/plain": [
       "([0.0, 19.0], [0.2, 18.7])"
      ]
     },
     "execution_count": 2,
     "metadata": {},
     "output_type": "execute_result"
    }
   ],
   "source": [
    "using Plots\n",
    "gr() #choosing backend for plotting\n",
    "\n",
    "x1_data = [y1_data[:,1] y2_data[:,1]]\n",
    "x2_data = [y1_data[:,2] y2_data[:,2]]\n",
    "labels = [\"feature 'y1'\" \"feature 'y2'\"]\n",
    "x1_domain, x2_domain = get_minmax_vals([y1_data;y2_data])"
   ]
  },
  {
   "cell_type": "code",
   "execution_count": 3,
   "metadata": {},
   "outputs": [
    {
     "data": {
      "image/svg+xml": [
       "<?xml version=\"1.0\" encoding=\"utf-8\"?>\n",
       "<svg xmlns=\"http://www.w3.org/2000/svg\" xmlns:xlink=\"http://www.w3.org/1999/xlink\" width=\"600\" height=\"400\" viewBox=\"0 0 2400 1600\">\n",
       "<defs>\n",
       "  <clipPath id=\"clip4600\">\n",
       "    <rect x=\"0\" y=\"0\" width=\"2400\" height=\"1600\"/>\n",
       "  </clipPath>\n",
       "</defs>\n",
       "<polygon clip-path=\"url(#clip4600)\" points=\"\n",
       "0,1600 2400,1600 2400,0 0,0 \n",
       "  \" fill=\"#ffffff\" fill-rule=\"evenodd\" fill-opacity=\"1\"/>\n",
       "<defs>\n",
       "  <clipPath id=\"clip4601\">\n",
       "    <rect x=\"480\" y=\"0\" width=\"1681\" height=\"1600\"/>\n",
       "  </clipPath>\n",
       "</defs>\n",
       "<polygon clip-path=\"url(#clip4600)\" points=\"\n",
       "140.517,1487.47 2352.76,1487.47 2352.76,121.675 140.517,121.675 \n",
       "  \" fill=\"#ffffff\" fill-rule=\"evenodd\" fill-opacity=\"1\"/>\n",
       "<defs>\n",
       "  <clipPath id=\"clip4602\">\n",
       "    <rect x=\"140\" y=\"121\" width=\"2213\" height=\"1367\"/>\n",
       "  </clipPath>\n",
       "</defs>\n",
       "<polyline clip-path=\"url(#clip4602)\" style=\"stroke:#000000; stroke-width:2; stroke-opacity:0.1; fill:none\" points=\"\n",
       "  203.127,1487.47 203.127,121.675 \n",
       "  \"/>\n",
       "<polyline clip-path=\"url(#clip4602)\" style=\"stroke:#000000; stroke-width:2; stroke-opacity:0.1; fill:none\" points=\"\n",
       "  752.343,1487.47 752.343,121.675 \n",
       "  \"/>\n",
       "<polyline clip-path=\"url(#clip4602)\" style=\"stroke:#000000; stroke-width:2; stroke-opacity:0.1; fill:none\" points=\"\n",
       "  1301.56,1487.47 1301.56,121.675 \n",
       "  \"/>\n",
       "<polyline clip-path=\"url(#clip4602)\" style=\"stroke:#000000; stroke-width:2; stroke-opacity:0.1; fill:none\" points=\"\n",
       "  1850.77,1487.47 1850.77,121.675 \n",
       "  \"/>\n",
       "<polyline clip-path=\"url(#clip4602)\" style=\"stroke:#000000; stroke-width:2; stroke-opacity:0.1; fill:none\" points=\"\n",
       "  140.517,1462.75 2352.76,1462.75 \n",
       "  \"/>\n",
       "<polyline clip-path=\"url(#clip4602)\" style=\"stroke:#000000; stroke-width:2; stroke-opacity:0.1; fill:none\" points=\"\n",
       "  140.517,1114.51 2352.76,1114.51 \n",
       "  \"/>\n",
       "<polyline clip-path=\"url(#clip4602)\" style=\"stroke:#000000; stroke-width:2; stroke-opacity:0.1; fill:none\" points=\"\n",
       "  140.517,766.268 2352.76,766.268 \n",
       "  \"/>\n",
       "<polyline clip-path=\"url(#clip4602)\" style=\"stroke:#000000; stroke-width:2; stroke-opacity:0.1; fill:none\" points=\"\n",
       "  140.517,418.028 2352.76,418.028 \n",
       "  \"/>\n",
       "<polyline clip-path=\"url(#clip4600)\" style=\"stroke:#000000; stroke-width:4; stroke-opacity:1; fill:none\" points=\"\n",
       "  140.517,1487.47 2352.76,1487.47 \n",
       "  \"/>\n",
       "<polyline clip-path=\"url(#clip4600)\" style=\"stroke:#000000; stroke-width:4; stroke-opacity:1; fill:none\" points=\"\n",
       "  140.517,1487.47 140.517,121.675 \n",
       "  \"/>\n",
       "<polyline clip-path=\"url(#clip4600)\" style=\"stroke:#000000; stroke-width:4; stroke-opacity:1; fill:none\" points=\"\n",
       "  203.127,1487.47 203.127,1466.99 \n",
       "  \"/>\n",
       "<polyline clip-path=\"url(#clip4600)\" style=\"stroke:#000000; stroke-width:4; stroke-opacity:1; fill:none\" points=\"\n",
       "  752.343,1487.47 752.343,1466.99 \n",
       "  \"/>\n",
       "<polyline clip-path=\"url(#clip4600)\" style=\"stroke:#000000; stroke-width:4; stroke-opacity:1; fill:none\" points=\"\n",
       "  1301.56,1487.47 1301.56,1466.99 \n",
       "  \"/>\n",
       "<polyline clip-path=\"url(#clip4600)\" style=\"stroke:#000000; stroke-width:4; stroke-opacity:1; fill:none\" points=\"\n",
       "  1850.77,1487.47 1850.77,1466.99 \n",
       "  \"/>\n",
       "<polyline clip-path=\"url(#clip4600)\" style=\"stroke:#000000; stroke-width:4; stroke-opacity:1; fill:none\" points=\"\n",
       "  140.517,1462.75 173.7,1462.75 \n",
       "  \"/>\n",
       "<polyline clip-path=\"url(#clip4600)\" style=\"stroke:#000000; stroke-width:4; stroke-opacity:1; fill:none\" points=\"\n",
       "  140.517,1114.51 173.7,1114.51 \n",
       "  \"/>\n",
       "<polyline clip-path=\"url(#clip4600)\" style=\"stroke:#000000; stroke-width:4; stroke-opacity:1; fill:none\" points=\"\n",
       "  140.517,766.268 173.7,766.268 \n",
       "  \"/>\n",
       "<polyline clip-path=\"url(#clip4600)\" style=\"stroke:#000000; stroke-width:4; stroke-opacity:1; fill:none\" points=\"\n",
       "  140.517,418.028 173.7,418.028 \n",
       "  \"/>\n",
       "<g clip-path=\"url(#clip4600)\">\n",
       "<text style=\"fill:#000000; fill-opacity:1; font-family:Arial,Helvetica Neue,Helvetica,sans-serif; font-size:48px; text-anchor:middle;\" transform=\"rotate(0, 203.127, 1541.47)\" x=\"203.127\" y=\"1541.47\">0</text>\n",
       "</g>\n",
       "<g clip-path=\"url(#clip4600)\">\n",
       "<text style=\"fill:#000000; fill-opacity:1; font-family:Arial,Helvetica Neue,Helvetica,sans-serif; font-size:48px; text-anchor:middle;\" transform=\"rotate(0, 752.343, 1541.47)\" x=\"752.343\" y=\"1541.47\">5</text>\n",
       "</g>\n",
       "<g clip-path=\"url(#clip4600)\">\n",
       "<text style=\"fill:#000000; fill-opacity:1; font-family:Arial,Helvetica Neue,Helvetica,sans-serif; font-size:48px; text-anchor:middle;\" transform=\"rotate(0, 1301.56, 1541.47)\" x=\"1301.56\" y=\"1541.47\">10</text>\n",
       "</g>\n",
       "<g clip-path=\"url(#clip4600)\">\n",
       "<text style=\"fill:#000000; fill-opacity:1; font-family:Arial,Helvetica Neue,Helvetica,sans-serif; font-size:48px; text-anchor:middle;\" transform=\"rotate(0, 1850.77, 1541.47)\" x=\"1850.77\" y=\"1541.47\">15</text>\n",
       "</g>\n",
       "<g clip-path=\"url(#clip4600)\">\n",
       "<text style=\"fill:#000000; fill-opacity:1; font-family:Arial,Helvetica Neue,Helvetica,sans-serif; font-size:48px; text-anchor:end;\" transform=\"rotate(0, 116.517, 1480.25)\" x=\"116.517\" y=\"1480.25\">0</text>\n",
       "</g>\n",
       "<g clip-path=\"url(#clip4600)\">\n",
       "<text style=\"fill:#000000; fill-opacity:1; font-family:Arial,Helvetica Neue,Helvetica,sans-serif; font-size:48px; text-anchor:end;\" transform=\"rotate(0, 116.517, 1132.01)\" x=\"116.517\" y=\"1132.01\">5</text>\n",
       "</g>\n",
       "<g clip-path=\"url(#clip4600)\">\n",
       "<text style=\"fill:#000000; fill-opacity:1; font-family:Arial,Helvetica Neue,Helvetica,sans-serif; font-size:48px; text-anchor:end;\" transform=\"rotate(0, 116.517, 783.768)\" x=\"116.517\" y=\"783.768\">10</text>\n",
       "</g>\n",
       "<g clip-path=\"url(#clip4600)\">\n",
       "<text style=\"fill:#000000; fill-opacity:1; font-family:Arial,Helvetica Neue,Helvetica,sans-serif; font-size:48px; text-anchor:end;\" transform=\"rotate(0, 116.517, 435.528)\" x=\"116.517\" y=\"435.528\">15</text>\n",
       "</g>\n",
       "<g clip-path=\"url(#clip4600)\">\n",
       "<text style=\"fill:#000000; fill-opacity:1; font-family:Arial,Helvetica Neue,Helvetica,sans-serif; font-size:84px; text-anchor:middle;\" transform=\"rotate(0, 1246.64, 73.2)\" x=\"1246.64\" y=\"73.2\">Trénovací dataset</text>\n",
       "</g>\n",
       "<circle clip-path=\"url(#clip4602)\" style=\"fill:#000000; stroke:none; fill-opacity:1\" cx=\"488.719\" cy=\"1337.38\" r=\"18\"/>\n",
       "<circle clip-path=\"url(#clip4602)\" style=\"fill:#009af9; stroke:none; fill-opacity:1\" cx=\"488.719\" cy=\"1337.38\" r=\"14\"/>\n",
       "<circle clip-path=\"url(#clip4602)\" style=\"fill:#000000; stroke:none; fill-opacity:1\" cx=\"521.672\" cy=\"1448.82\" r=\"18\"/>\n",
       "<circle clip-path=\"url(#clip4602)\" style=\"fill:#009af9; stroke:none; fill-opacity:1\" cx=\"521.672\" cy=\"1448.82\" r=\"14\"/>\n",
       "<circle clip-path=\"url(#clip4602)\" style=\"fill:#000000; stroke:none; fill-opacity:1\" cx=\"345.923\" cy=\"1427.93\" r=\"18\"/>\n",
       "<circle clip-path=\"url(#clip4602)\" style=\"fill:#009af9; stroke:none; fill-opacity:1\" cx=\"345.923\" cy=\"1427.93\" r=\"14\"/>\n",
       "<circle clip-path=\"url(#clip4602)\" style=\"fill:#000000; stroke:none; fill-opacity:1\" cx=\"466.751\" cy=\"1205.05\" r=\"18\"/>\n",
       "<circle clip-path=\"url(#clip4602)\" style=\"fill:#009af9; stroke:none; fill-opacity:1\" cx=\"466.751\" cy=\"1205.05\" r=\"14\"/>\n",
       "<circle clip-path=\"url(#clip4602)\" style=\"fill:#000000; stroke:none; fill-opacity:1\" cx=\"554.625\" cy=\"1337.38\" r=\"18\"/>\n",
       "<circle clip-path=\"url(#clip4602)\" style=\"fill:#009af9; stroke:none; fill-opacity:1\" cx=\"554.625\" cy=\"1337.38\" r=\"14\"/>\n",
       "<circle clip-path=\"url(#clip4602)\" style=\"fill:#000000; stroke:none; fill-opacity:1\" cx=\"1136.79\" cy=\"912.53\" r=\"18\"/>\n",
       "<circle clip-path=\"url(#clip4602)\" style=\"fill:#009af9; stroke:none; fill-opacity:1\" cx=\"1136.79\" cy=\"912.53\" r=\"14\"/>\n",
       "<circle clip-path=\"url(#clip4602)\" style=\"fill:#000000; stroke:none; fill-opacity:1\" cx=\"1784.87\" cy=\"961.283\" r=\"18\"/>\n",
       "<circle clip-path=\"url(#clip4602)\" style=\"fill:#009af9; stroke:none; fill-opacity:1\" cx=\"1784.87\" cy=\"961.283\" r=\"14\"/>\n",
       "<circle clip-path=\"url(#clip4602)\" style=\"fill:#000000; stroke:none; fill-opacity:1\" cx=\"862.186\" cy=\"1072.72\" r=\"18\"/>\n",
       "<circle clip-path=\"url(#clip4602)\" style=\"fill:#009af9; stroke:none; fill-opacity:1\" cx=\"862.186\" cy=\"1072.72\" r=\"14\"/>\n",
       "<circle clip-path=\"url(#clip4602)\" style=\"fill:#000000; stroke:none; fill-opacity:1\" cx=\"1345.5\" cy=\"1093.61\" r=\"18\"/>\n",
       "<circle clip-path=\"url(#clip4602)\" style=\"fill:#009af9; stroke:none; fill-opacity:1\" cx=\"1345.5\" cy=\"1093.61\" r=\"14\"/>\n",
       "<circle clip-path=\"url(#clip4602)\" style=\"fill:#000000; stroke:none; fill-opacity:1\" cx=\"1696.99\" cy=\"961.283\" r=\"18\"/>\n",
       "<circle clip-path=\"url(#clip4602)\" style=\"fill:#009af9; stroke:none; fill-opacity:1\" cx=\"1696.99\" cy=\"961.283\" r=\"14\"/>\n",
       "<circle clip-path=\"url(#clip4602)\" style=\"fill:#000000; stroke:none; fill-opacity:1\" cx=\"1125.81\" cy=\"1058.79\" r=\"18\"/>\n",
       "<circle clip-path=\"url(#clip4602)\" style=\"fill:#009af9; stroke:none; fill-opacity:1\" cx=\"1125.81\" cy=\"1058.79\" r=\"14\"/>\n",
       "<circle clip-path=\"url(#clip4602)\" style=\"fill:#000000; stroke:none; fill-opacity:1\" cx=\"1642.07\" cy=\"1023.97\" r=\"18\"/>\n",
       "<circle clip-path=\"url(#clip4602)\" style=\"fill:#009af9; stroke:none; fill-opacity:1\" cx=\"1642.07\" cy=\"1023.97\" r=\"14\"/>\n",
       "<circle clip-path=\"url(#clip4602)\" style=\"fill:#000000; stroke:none; fill-opacity:1\" cx=\"1477.31\" cy=\"1037.9\" r=\"18\"/>\n",
       "<circle clip-path=\"url(#clip4602)\" style=\"fill:#009af9; stroke:none; fill-opacity:1\" cx=\"1477.31\" cy=\"1037.9\" r=\"14\"/>\n",
       "<circle clip-path=\"url(#clip4602)\" style=\"fill:#000000; stroke:none; fill-opacity:1\" cx=\"1718.96\" cy=\"1149.33\" r=\"18\"/>\n",
       "<circle clip-path=\"url(#clip4602)\" style=\"fill:#009af9; stroke:none; fill-opacity:1\" cx=\"1718.96\" cy=\"1149.33\" r=\"14\"/>\n",
       "<circle clip-path=\"url(#clip4602)\" style=\"fill:#000000; stroke:none; fill-opacity:1\" cx=\"785.296\" cy=\"1149.33\" r=\"18\"/>\n",
       "<circle clip-path=\"url(#clip4602)\" style=\"fill:#009af9; stroke:none; fill-opacity:1\" cx=\"785.296\" cy=\"1149.33\" r=\"14\"/>\n",
       "<circle clip-path=\"url(#clip4602)\" style=\"fill:#000000; stroke:none; fill-opacity:1\" cx=\"2125.38\" cy=\"571.254\" r=\"18\"/>\n",
       "<circle clip-path=\"url(#clip4602)\" style=\"fill:#009af9; stroke:none; fill-opacity:1\" cx=\"2125.38\" cy=\"571.254\" r=\"14\"/>\n",
       "<circle clip-path=\"url(#clip4602)\" style=\"fill:#000000; stroke:none; fill-opacity:1\" cx=\"1960.62\" cy=\"828.952\" r=\"18\"/>\n",
       "<circle clip-path=\"url(#clip4602)\" style=\"fill:#009af9; stroke:none; fill-opacity:1\" cx=\"1960.62\" cy=\"828.952\" r=\"14\"/>\n",
       "<circle clip-path=\"url(#clip4602)\" style=\"fill:#000000; stroke:none; fill-opacity:1\" cx=\"2213.26\" cy=\"529.465\" r=\"18\"/>\n",
       "<circle clip-path=\"url(#clip4602)\" style=\"fill:#009af9; stroke:none; fill-opacity:1\" cx=\"2213.26\" cy=\"529.465\" r=\"14\"/>\n",
       "<circle clip-path=\"url(#clip4602)\" style=\"fill:#000000; stroke:none; fill-opacity:1\" cx=\"2136.37\" cy=\"773.233\" r=\"18\"/>\n",
       "<circle clip-path=\"url(#clip4602)\" style=\"fill:#009af9; stroke:none; fill-opacity:1\" cx=\"2136.37\" cy=\"773.233\" r=\"14\"/>\n",
       "<circle clip-path=\"url(#clip4602)\" style=\"fill:#000000; stroke:none; fill-opacity:1\" cx=\"1960.62\" cy=\"626.972\" r=\"18\"/>\n",
       "<circle clip-path=\"url(#clip4602)\" style=\"fill:#009af9; stroke:none; fill-opacity:1\" cx=\"1960.62\" cy=\"626.972\" r=\"14\"/>\n",
       "<circle clip-path=\"url(#clip4602)\" style=\"fill:#000000; stroke:none; fill-opacity:1\" cx=\"203.127\" cy=\"835.917\" r=\"18\"/>\n",
       "<circle clip-path=\"url(#clip4602)\" style=\"fill:#e26f46; stroke:none; fill-opacity:1\" cx=\"203.127\" cy=\"835.917\" r=\"14\"/>\n",
       "<circle clip-path=\"url(#clip4602)\" style=\"fill:#000000; stroke:none; fill-opacity:1\" cx=\"214.112\" cy=\"557.324\" r=\"18\"/>\n",
       "<circle clip-path=\"url(#clip4602)\" style=\"fill:#e26f46; stroke:none; fill-opacity:1\" cx=\"214.112\" cy=\"557.324\" r=\"14\"/>\n",
       "<circle clip-path=\"url(#clip4602)\" style=\"fill:#000000; stroke:none; fill-opacity:1\" cx=\"258.049\" cy=\"543.394\" r=\"18\"/>\n",
       "<circle clip-path=\"url(#clip4602)\" style=\"fill:#e26f46; stroke:none; fill-opacity:1\" cx=\"258.049\" cy=\"543.394\" r=\"14\"/>\n",
       "<circle clip-path=\"url(#clip4602)\" style=\"fill:#000000; stroke:none; fill-opacity:1\" cx=\"587.578\" cy=\"452.852\" r=\"18\"/>\n",
       "<circle clip-path=\"url(#clip4602)\" style=\"fill:#e26f46; stroke:none; fill-opacity:1\" cx=\"587.578\" cy=\"452.852\" r=\"14\"/>\n",
       "<circle clip-path=\"url(#clip4602)\" style=\"fill:#000000; stroke:none; fill-opacity:1\" cx=\"258.049\" cy=\"633.937\" r=\"18\"/>\n",
       "<circle clip-path=\"url(#clip4602)\" style=\"fill:#e26f46; stroke:none; fill-opacity:1\" cx=\"258.049\" cy=\"633.937\" r=\"14\"/>\n",
       "<circle clip-path=\"url(#clip4602)\" style=\"fill:#000000; stroke:none; fill-opacity:1\" cx=\"961.044\" cy=\"438.922\" r=\"18\"/>\n",
       "<circle clip-path=\"url(#clip4602)\" style=\"fill:#e26f46; stroke:none; fill-opacity:1\" cx=\"961.044\" cy=\"438.922\" r=\"14\"/>\n",
       "<circle clip-path=\"url(#clip4602)\" style=\"fill:#000000; stroke:none; fill-opacity:1\" cx=\"752.343\" cy=\"160.33\" r=\"18\"/>\n",
       "<circle clip-path=\"url(#clip4602)\" style=\"fill:#e26f46; stroke:none; fill-opacity:1\" cx=\"752.343\" cy=\"160.33\" r=\"14\"/>\n",
       "<circle clip-path=\"url(#clip4602)\" style=\"fill:#000000; stroke:none; fill-opacity:1\" cx=\"1729.95\" cy=\"383.204\" r=\"18\"/>\n",
       "<circle clip-path=\"url(#clip4602)\" style=\"fill:#e26f46; stroke:none; fill-opacity:1\" cx=\"1729.95\" cy=\"383.204\" r=\"14\"/>\n",
       "<circle clip-path=\"url(#clip4602)\" style=\"fill:#000000; stroke:none; fill-opacity:1\" cx=\"1598.13\" cy=\"223.013\" r=\"18\"/>\n",
       "<circle clip-path=\"url(#clip4602)\" style=\"fill:#e26f46; stroke:none; fill-opacity:1\" cx=\"1598.13\" cy=\"223.013\" r=\"14\"/>\n",
       "<circle clip-path=\"url(#clip4602)\" style=\"fill:#000000; stroke:none; fill-opacity:1\" cx=\"1839.79\" cy=\"452.852\" r=\"18\"/>\n",
       "<circle clip-path=\"url(#clip4602)\" style=\"fill:#e26f46; stroke:none; fill-opacity:1\" cx=\"1839.79\" cy=\"452.852\" r=\"14\"/>\n",
       "<circle clip-path=\"url(#clip4602)\" style=\"fill:#000000; stroke:none; fill-opacity:1\" cx=\"1784.87\" cy=\"202.119\" r=\"18\"/>\n",
       "<circle clip-path=\"url(#clip4602)\" style=\"fill:#e26f46; stroke:none; fill-opacity:1\" cx=\"1784.87\" cy=\"202.119\" r=\"14\"/>\n",
       "<circle clip-path=\"url(#clip4602)\" style=\"fill:#000000; stroke:none; fill-opacity:1\" cx=\"1103.84\" cy=\"508.57\" r=\"18\"/>\n",
       "<circle clip-path=\"url(#clip4602)\" style=\"fill:#e26f46; stroke:none; fill-opacity:1\" cx=\"1103.84\" cy=\"508.57\" r=\"14\"/>\n",
       "<circle clip-path=\"url(#clip4602)\" style=\"fill:#000000; stroke:none; fill-opacity:1\" cx=\"807.264\" cy=\"236.943\" r=\"18\"/>\n",
       "<circle clip-path=\"url(#clip4602)\" style=\"fill:#e26f46; stroke:none; fill-opacity:1\" cx=\"807.264\" cy=\"236.943\" r=\"14\"/>\n",
       "<circle clip-path=\"url(#clip4602)\" style=\"fill:#000000; stroke:none; fill-opacity:1\" cx=\"1246.64\" cy=\"181.224\" r=\"18\"/>\n",
       "<circle clip-path=\"url(#clip4602)\" style=\"fill:#e26f46; stroke:none; fill-opacity:1\" cx=\"1246.64\" cy=\"181.224\" r=\"14\"/>\n",
       "<circle clip-path=\"url(#clip4602)\" style=\"fill:#000000; stroke:none; fill-opacity:1\" cx=\"895.139\" cy=\"264.802\" r=\"18\"/>\n",
       "<circle clip-path=\"url(#clip4602)\" style=\"fill:#e26f46; stroke:none; fill-opacity:1\" cx=\"895.139\" cy=\"264.802\" r=\"14\"/>\n",
       "<circle clip-path=\"url(#clip4602)\" style=\"fill:#000000; stroke:none; fill-opacity:1\" cx=\"2191.29\" cy=\"278.732\" r=\"18\"/>\n",
       "<circle clip-path=\"url(#clip4602)\" style=\"fill:#e26f46; stroke:none; fill-opacity:1\" cx=\"2191.29\" cy=\"278.732\" r=\"14\"/>\n",
       "<circle clip-path=\"url(#clip4602)\" style=\"fill:#000000; stroke:none; fill-opacity:1\" cx=\"2081.44\" cy=\"223.013\" r=\"18\"/>\n",
       "<circle clip-path=\"url(#clip4602)\" style=\"fill:#e26f46; stroke:none; fill-opacity:1\" cx=\"2081.44\" cy=\"223.013\" r=\"14\"/>\n",
       "<circle clip-path=\"url(#clip4602)\" style=\"fill:#000000; stroke:none; fill-opacity:1\" cx=\"2114.4\" cy=\"250.872\" r=\"18\"/>\n",
       "<circle clip-path=\"url(#clip4602)\" style=\"fill:#e26f46; stroke:none; fill-opacity:1\" cx=\"2114.4\" cy=\"250.872\" r=\"14\"/>\n",
       "<circle clip-path=\"url(#clip4602)\" style=\"fill:#000000; stroke:none; fill-opacity:1\" cx=\"2290.15\" cy=\"320.521\" r=\"18\"/>\n",
       "<circle clip-path=\"url(#clip4602)\" style=\"fill:#e26f46; stroke:none; fill-opacity:1\" cx=\"2290.15\" cy=\"320.521\" r=\"14\"/>\n",
       "<circle clip-path=\"url(#clip4602)\" style=\"fill:#000000; stroke:none; fill-opacity:1\" cx=\"2059.47\" cy=\"243.908\" r=\"18\"/>\n",
       "<circle clip-path=\"url(#clip4602)\" style=\"fill:#e26f46; stroke:none; fill-opacity:1\" cx=\"2059.47\" cy=\"243.908\" r=\"14\"/>\n",
       "<polygon clip-path=\"url(#clip4600)\" points=\"\n",
       "1805.33,447.115 2280.76,447.115 2280.76,205.195 1805.33,205.195 \n",
       "  \" fill=\"#ffffff\" fill-rule=\"evenodd\" fill-opacity=\"1\"/>\n",
       "<polyline clip-path=\"url(#clip4600)\" style=\"stroke:#000000; stroke-width:4; stroke-opacity:1; fill:none\" points=\"\n",
       "  1805.33,447.115 2280.76,447.115 2280.76,205.195 1805.33,205.195 1805.33,447.115 \n",
       "  \"/>\n",
       "<g clip-path=\"url(#clip4600)\">\n",
       "<text style=\"fill:#000000; fill-opacity:1; font-family:Arial,Helvetica Neue,Helvetica,sans-serif; font-size:48px; text-anchor:middle;\" transform=\"rotate(0, 2043.04, 283.175)\" x=\"2043.04\" y=\"283.175\">Features</text>\n",
       "</g>\n",
       "<circle clip-path=\"url(#clip4600)\" style=\"fill:#000000; stroke:none; fill-opacity:1\" cx=\"1913.33\" cy=\"326.155\" r=\"25\"/>\n",
       "<circle clip-path=\"url(#clip4600)\" style=\"fill:#009af9; stroke:none; fill-opacity:1\" cx=\"1913.33\" cy=\"326.155\" r=\"21\"/>\n",
       "<g clip-path=\"url(#clip4600)\">\n",
       "<text style=\"fill:#000000; fill-opacity:1; font-family:Arial,Helvetica Neue,Helvetica,sans-serif; font-size:48px; text-anchor:start;\" transform=\"rotate(0, 1997.33, 343.655)\" x=\"1997.33\" y=\"343.655\">feature &apos;y1&apos;</text>\n",
       "</g>\n",
       "<circle clip-path=\"url(#clip4600)\" style=\"fill:#000000; stroke:none; fill-opacity:1\" cx=\"1913.33\" cy=\"386.635\" r=\"25\"/>\n",
       "<circle clip-path=\"url(#clip4600)\" style=\"fill:#e26f46; stroke:none; fill-opacity:1\" cx=\"1913.33\" cy=\"386.635\" r=\"21\"/>\n",
       "<g clip-path=\"url(#clip4600)\">\n",
       "<text style=\"fill:#000000; fill-opacity:1; font-family:Arial,Helvetica Neue,Helvetica,sans-serif; font-size:48px; text-anchor:start;\" transform=\"rotate(0, 1997.33, 404.135)\" x=\"1997.33\" y=\"404.135\">feature &apos;y2&apos;</text>\n",
       "</g>\n",
       "</svg>\n"
      ]
     },
     "execution_count": 3,
     "metadata": {},
     "output_type": "execute_result"
    }
   ],
   "source": [
    "plot(x1_data, x2_data, xlims=x1_domain, ylims=x2_domain, label=labels, legendtitle=\"Features\", seriestype=:scatter, title=\"Trénovací dataset\")"
   ]
  },
  {
   "cell_type": "markdown",
   "metadata": {},
   "source": [
    "### Formulácia problému s optimalizačnou knižnicou Convex"
   ]
  },
  {
   "cell_type": "markdown",
   "metadata": {},
   "source": [
    "Máme trénovací dataset, takže môžeme pristúpiť k formulácii problému.\n",
    "Ako prvé zadefinujeme **optimalizačné premenné** $\\omega$ a $b$, aj s ich dimenziami, **účelovú funkciu** $\\frac{1}{2}||\\omega||^2$ a problém samotný:"
   ]
  },
  {
   "cell_type": "code",
   "execution_count": 4,
   "metadata": {},
   "outputs": [
    {
     "data": {
      "text/plain": [
       "Problem:\n",
       "minimize AbstractExpr with\n",
       "head: *\n",
       "size: (1, 1)\n",
       "sign: Positive()\n",
       "vexity: ConvexVexity()\n",
       "\n",
       "subject to\n",
       "\n",
       "current status: not yet solved"
      ]
     },
     "execution_count": 4,
     "metadata": {},
     "output_type": "execute_result"
    }
   ],
   "source": [
    "using Convex\n",
    "\n",
    "omega = Variable(1,2)\n",
    "b = Variable(1,1)\n",
    "objective = sumsquares(omega)/2 #sumsquares(x) = ||x||^2 with Euclidian norm\n",
    "problem = minimize(objective)"
   ]
  },
  {
   "cell_type": "markdown",
   "metadata": {},
   "source": [
    "Teraz budeme iterovať cez body nášho datasetu a definovať **obmedzenie** $$f(\\underline{x_i})(\\underline{\\omega}\\cdot\\underline{x_i}+b) \\ge 1\\qquad for\\ i = 1,\\ldots,n$$"
   ]
  },
  {
   "cell_type": "code",
   "execution_count": 5,
   "metadata": {},
   "outputs": [],
   "source": [
    "data = Dict(1 => y1_data, -1 => y2_data)\n",
    "\n",
    "constraints = []\n",
    "for (y, dataset) in data\n",
    "    points_number = size(dataset)[1]\n",
    "    for point_index in collect(1:points_number)\n",
    "        x = dataset[point_index, :]\n",
    "        problem.constraints +=  y*(omega*x+b) >= 1\n",
    "    end\n",
    "end"
   ]
  },
  {
   "cell_type": "markdown",
   "metadata": {},
   "source": [
    "### Riešenie úlohy pomocou riešiča ECOS"
   ]
  },
  {
   "cell_type": "markdown",
   "metadata": {},
   "source": [
    "Teraz už len vyriešíme našu úlohu, a to pomocou riešiča $ECOS$."
   ]
  },
  {
   "cell_type": "code",
   "execution_count": 6,
   "metadata": {},
   "outputs": [
    {
     "name": "stdout",
     "output_type": "stream",
     "text": [
      "\n",
      "ECOS 2.0.5 - (C) embotech GmbH, Zurich Switzerland, 2012-15. Web: www.embotech.com/ECOS\n",
      "\n",
      "It     pcost       dcost      gap   pres   dres    k/t    mu     step   sigma     IR    |   BT\n",
      " 0  +0.000e+00  +1.398e+01  +5e+01  7e-01  1e+00  1e+00  1e+00    ---    ---    1  1  - |  -  - \n",
      " 1  +5.284e-01  +4.685e+00  +1e+01  2e-01  7e-01  4e-01  3e-01  0.8600  7e-02   1  1  1 |  0  0\n",
      " 2  +4.243e-01  +1.302e+00  +3e+00  3e-02  2e-01  5e-02  6e-02  0.7799  4e-02   1  1  1 |  0  0\n",
      " 3  +3.013e-01  +4.511e-01  +7e-01  5e-03  2e-02  1e-02  2e-02  0.7808  4e-02   2  2  2 |  0  0\n",
      " 4  +3.358e-01  +3.838e-01  +2e-01  2e-03  7e-03  4e-03  5e-03  0.8781  2e-01   2  1  1 |  0  0\n",
      " 5  +3.396e-01  +3.457e-01  +3e-02  2e-04  9e-04  5e-04  6e-04  0.9335  7e-02   2  1  1 |  0  0\n",
      " 6  +3.394e-01  +3.397e-01  +1e-03  1e-05  5e-05  3e-05  3e-05  0.9447  8e-04   2  1  1 |  0  0\n",
      " 7  +3.394e-01  +3.394e-01  +2e-05  2e-07  8e-07  5e-07  5e-07  0.9890  5e-03   3  1  1 |  0  0\n",
      " 8  +3.394e-01  +3.394e-01  +4e-07  3e-09  1e-08  8e-09  1e-08  0.9825  1e-04   2  1  1 |  0  0\n",
      " 9  +3.394e-01  +3.394e-01  +1e-08  1e-10  4e-10  2e-10  3e-10  0.9695  2e-04   2  1  1 |  0  0\n",
      "10  +3.394e-01  +3.394e-01  +3e-10  2e-12  9e-12  5e-12  6e-12  0.9797  2e-04   1  1  1 |  0  0\n",
      "\n",
      "OPTIMAL (within feastol=9.1e-12, reltol=7.6e-10, abstol=2.6e-10).\n",
      "Runtime: 0.000275 seconds.\n",
      "\n"
     ]
    }
   ],
   "source": [
    "using ECOS\n",
    "\n",
    "solve!(problem, ECOSSolver())\n"
   ]
  },
  {
   "cell_type": "markdown",
   "metadata": {},
   "source": [
    "Môžeme sa pozrieť na výsledok problému, hodnotu účelovej funkcie a optimalizačných premenných:"
   ]
  },
  {
   "cell_type": "code",
   "execution_count": 7,
   "metadata": {},
   "outputs": [
    {
     "name": "stdout",
     "output_type": "stream",
     "text": [
      "Optimal\n",
      "\n",
      "0.3393692418762612\n",
      "\n",
      "Variable of\n",
      "size: (1, 2)\n",
      "sign: NoSign()\n",
      "vexity: AffineVexity()\n",
      "value: [0.346399 -0.747493]\n",
      "\n",
      "Variable of\n",
      "size: (1, 1)\n",
      "sign: NoSign()\n",
      "vexity: AffineVexity()\n",
      "value: 4.677301731809577\n"
     ]
    }
   ],
   "source": [
    "println(problem.status, \"\\n\\n\", problem.optval, \"\\n\\n\", omega, \"\\n\\n\", b )"
   ]
  },
  {
   "cell_type": "markdown",
   "metadata": {},
   "source": [
    "### Zhrnutie výsledkov"
   ]
  },
  {
   "cell_type": "markdown",
   "metadata": {},
   "source": [
    "Vyriešili sme náš optimalizačný problém a našli sme **optimálne riešenie**. Poďme naše výsledky demonštrovať na predchádzajúcom grafe a zakresliť doňho oddeľujúcu nami nájdenú nadrovinu. "
   ]
  },
  {
   "cell_type": "code",
   "execution_count": 8,
   "metadata": {},
   "outputs": [
    {
     "data": {
      "image/svg+xml": [
       "<?xml version=\"1.0\" encoding=\"utf-8\"?>\n",
       "<svg xmlns=\"http://www.w3.org/2000/svg\" xmlns:xlink=\"http://www.w3.org/1999/xlink\" width=\"600\" height=\"400\" viewBox=\"0 0 2400 1600\">\n",
       "<defs>\n",
       "  <clipPath id=\"clip5000\">\n",
       "    <rect x=\"0\" y=\"0\" width=\"2400\" height=\"1600\"/>\n",
       "  </clipPath>\n",
       "</defs>\n",
       "<polygon clip-path=\"url(#clip5000)\" points=\"\n",
       "0,1600 2400,1600 2400,0 0,0 \n",
       "  \" fill=\"#ffffff\" fill-rule=\"evenodd\" fill-opacity=\"1\"/>\n",
       "<defs>\n",
       "  <clipPath id=\"clip5001\">\n",
       "    <rect x=\"480\" y=\"0\" width=\"1681\" height=\"1600\"/>\n",
       "  </clipPath>\n",
       "</defs>\n",
       "<polygon clip-path=\"url(#clip5000)\" points=\"\n",
       "140.517,1487.47 2352.76,1487.47 2352.76,121.675 140.517,121.675 \n",
       "  \" fill=\"#ffffff\" fill-rule=\"evenodd\" fill-opacity=\"1\"/>\n",
       "<defs>\n",
       "  <clipPath id=\"clip5002\">\n",
       "    <rect x=\"140\" y=\"121\" width=\"2213\" height=\"1367\"/>\n",
       "  </clipPath>\n",
       "</defs>\n",
       "<polyline clip-path=\"url(#clip5002)\" style=\"stroke:#000000; stroke-width:2; stroke-opacity:0.1; fill:none\" points=\"\n",
       "  203.127,1487.47 203.127,121.675 \n",
       "  \"/>\n",
       "<polyline clip-path=\"url(#clip5002)\" style=\"stroke:#000000; stroke-width:2; stroke-opacity:0.1; fill:none\" points=\"\n",
       "  752.343,1487.47 752.343,121.675 \n",
       "  \"/>\n",
       "<polyline clip-path=\"url(#clip5002)\" style=\"stroke:#000000; stroke-width:2; stroke-opacity:0.1; fill:none\" points=\"\n",
       "  1301.56,1487.47 1301.56,121.675 \n",
       "  \"/>\n",
       "<polyline clip-path=\"url(#clip5002)\" style=\"stroke:#000000; stroke-width:2; stroke-opacity:0.1; fill:none\" points=\"\n",
       "  1850.77,1487.47 1850.77,121.675 \n",
       "  \"/>\n",
       "<polyline clip-path=\"url(#clip5002)\" style=\"stroke:#000000; stroke-width:2; stroke-opacity:0.1; fill:none\" points=\"\n",
       "  140.517,1462.75 2352.76,1462.75 \n",
       "  \"/>\n",
       "<polyline clip-path=\"url(#clip5002)\" style=\"stroke:#000000; stroke-width:2; stroke-opacity:0.1; fill:none\" points=\"\n",
       "  140.517,1114.51 2352.76,1114.51 \n",
       "  \"/>\n",
       "<polyline clip-path=\"url(#clip5002)\" style=\"stroke:#000000; stroke-width:2; stroke-opacity:0.1; fill:none\" points=\"\n",
       "  140.517,766.268 2352.76,766.268 \n",
       "  \"/>\n",
       "<polyline clip-path=\"url(#clip5002)\" style=\"stroke:#000000; stroke-width:2; stroke-opacity:0.1; fill:none\" points=\"\n",
       "  140.517,418.028 2352.76,418.028 \n",
       "  \"/>\n",
       "<polyline clip-path=\"url(#clip5000)\" style=\"stroke:#000000; stroke-width:4; stroke-opacity:1; fill:none\" points=\"\n",
       "  140.517,1487.47 2352.76,1487.47 \n",
       "  \"/>\n",
       "<polyline clip-path=\"url(#clip5000)\" style=\"stroke:#000000; stroke-width:4; stroke-opacity:1; fill:none\" points=\"\n",
       "  140.517,1487.47 140.517,121.675 \n",
       "  \"/>\n",
       "<polyline clip-path=\"url(#clip5000)\" style=\"stroke:#000000; stroke-width:4; stroke-opacity:1; fill:none\" points=\"\n",
       "  203.127,1487.47 203.127,1466.99 \n",
       "  \"/>\n",
       "<polyline clip-path=\"url(#clip5000)\" style=\"stroke:#000000; stroke-width:4; stroke-opacity:1; fill:none\" points=\"\n",
       "  752.343,1487.47 752.343,1466.99 \n",
       "  \"/>\n",
       "<polyline clip-path=\"url(#clip5000)\" style=\"stroke:#000000; stroke-width:4; stroke-opacity:1; fill:none\" points=\"\n",
       "  1301.56,1487.47 1301.56,1466.99 \n",
       "  \"/>\n",
       "<polyline clip-path=\"url(#clip5000)\" style=\"stroke:#000000; stroke-width:4; stroke-opacity:1; fill:none\" points=\"\n",
       "  1850.77,1487.47 1850.77,1466.99 \n",
       "  \"/>\n",
       "<polyline clip-path=\"url(#clip5000)\" style=\"stroke:#000000; stroke-width:4; stroke-opacity:1; fill:none\" points=\"\n",
       "  140.517,1462.75 173.7,1462.75 \n",
       "  \"/>\n",
       "<polyline clip-path=\"url(#clip5000)\" style=\"stroke:#000000; stroke-width:4; stroke-opacity:1; fill:none\" points=\"\n",
       "  140.517,1114.51 173.7,1114.51 \n",
       "  \"/>\n",
       "<polyline clip-path=\"url(#clip5000)\" style=\"stroke:#000000; stroke-width:4; stroke-opacity:1; fill:none\" points=\"\n",
       "  140.517,766.268 173.7,766.268 \n",
       "  \"/>\n",
       "<polyline clip-path=\"url(#clip5000)\" style=\"stroke:#000000; stroke-width:4; stroke-opacity:1; fill:none\" points=\"\n",
       "  140.517,418.028 173.7,418.028 \n",
       "  \"/>\n",
       "<g clip-path=\"url(#clip5000)\">\n",
       "<text style=\"fill:#000000; fill-opacity:1; font-family:Arial,Helvetica Neue,Helvetica,sans-serif; font-size:48px; text-anchor:middle;\" transform=\"rotate(0, 203.127, 1541.47)\" x=\"203.127\" y=\"1541.47\">0</text>\n",
       "</g>\n",
       "<g clip-path=\"url(#clip5000)\">\n",
       "<text style=\"fill:#000000; fill-opacity:1; font-family:Arial,Helvetica Neue,Helvetica,sans-serif; font-size:48px; text-anchor:middle;\" transform=\"rotate(0, 752.343, 1541.47)\" x=\"752.343\" y=\"1541.47\">5</text>\n",
       "</g>\n",
       "<g clip-path=\"url(#clip5000)\">\n",
       "<text style=\"fill:#000000; fill-opacity:1; font-family:Arial,Helvetica Neue,Helvetica,sans-serif; font-size:48px; text-anchor:middle;\" transform=\"rotate(0, 1301.56, 1541.47)\" x=\"1301.56\" y=\"1541.47\">10</text>\n",
       "</g>\n",
       "<g clip-path=\"url(#clip5000)\">\n",
       "<text style=\"fill:#000000; fill-opacity:1; font-family:Arial,Helvetica Neue,Helvetica,sans-serif; font-size:48px; text-anchor:middle;\" transform=\"rotate(0, 1850.77, 1541.47)\" x=\"1850.77\" y=\"1541.47\">15</text>\n",
       "</g>\n",
       "<g clip-path=\"url(#clip5000)\">\n",
       "<text style=\"fill:#000000; fill-opacity:1; font-family:Arial,Helvetica Neue,Helvetica,sans-serif; font-size:48px; text-anchor:end;\" transform=\"rotate(0, 116.517, 1480.25)\" x=\"116.517\" y=\"1480.25\">0</text>\n",
       "</g>\n",
       "<g clip-path=\"url(#clip5000)\">\n",
       "<text style=\"fill:#000000; fill-opacity:1; font-family:Arial,Helvetica Neue,Helvetica,sans-serif; font-size:48px; text-anchor:end;\" transform=\"rotate(0, 116.517, 1132.01)\" x=\"116.517\" y=\"1132.01\">5</text>\n",
       "</g>\n",
       "<g clip-path=\"url(#clip5000)\">\n",
       "<text style=\"fill:#000000; fill-opacity:1; font-family:Arial,Helvetica Neue,Helvetica,sans-serif; font-size:48px; text-anchor:end;\" transform=\"rotate(0, 116.517, 783.768)\" x=\"116.517\" y=\"783.768\">10</text>\n",
       "</g>\n",
       "<g clip-path=\"url(#clip5000)\">\n",
       "<text style=\"fill:#000000; fill-opacity:1; font-family:Arial,Helvetica Neue,Helvetica,sans-serif; font-size:48px; text-anchor:end;\" transform=\"rotate(0, 116.517, 435.528)\" x=\"116.517\" y=\"435.528\">15</text>\n",
       "</g>\n",
       "<g clip-path=\"url(#clip5000)\">\n",
       "<text style=\"fill:#000000; fill-opacity:1; font-family:Arial,Helvetica Neue,Helvetica,sans-serif; font-size:84px; text-anchor:middle;\" transform=\"rotate(0, 1246.64, 73.2)\" x=\"1246.64\" y=\"73.2\">Support Vector Machine</text>\n",
       "</g>\n",
       "<circle clip-path=\"url(#clip5002)\" style=\"fill:#000000; stroke:none; fill-opacity:1\" cx=\"488.719\" cy=\"1337.38\" r=\"18\"/>\n",
       "<circle clip-path=\"url(#clip5002)\" style=\"fill:#009af9; stroke:none; fill-opacity:1\" cx=\"488.719\" cy=\"1337.38\" r=\"14\"/>\n",
       "<circle clip-path=\"url(#clip5002)\" style=\"fill:#000000; stroke:none; fill-opacity:1\" cx=\"521.672\" cy=\"1448.82\" r=\"18\"/>\n",
       "<circle clip-path=\"url(#clip5002)\" style=\"fill:#009af9; stroke:none; fill-opacity:1\" cx=\"521.672\" cy=\"1448.82\" r=\"14\"/>\n",
       "<circle clip-path=\"url(#clip5002)\" style=\"fill:#000000; stroke:none; fill-opacity:1\" cx=\"345.923\" cy=\"1427.93\" r=\"18\"/>\n",
       "<circle clip-path=\"url(#clip5002)\" style=\"fill:#009af9; stroke:none; fill-opacity:1\" cx=\"345.923\" cy=\"1427.93\" r=\"14\"/>\n",
       "<circle clip-path=\"url(#clip5002)\" style=\"fill:#000000; stroke:none; fill-opacity:1\" cx=\"466.751\" cy=\"1205.05\" r=\"18\"/>\n",
       "<circle clip-path=\"url(#clip5002)\" style=\"fill:#009af9; stroke:none; fill-opacity:1\" cx=\"466.751\" cy=\"1205.05\" r=\"14\"/>\n",
       "<circle clip-path=\"url(#clip5002)\" style=\"fill:#000000; stroke:none; fill-opacity:1\" cx=\"554.625\" cy=\"1337.38\" r=\"18\"/>\n",
       "<circle clip-path=\"url(#clip5002)\" style=\"fill:#009af9; stroke:none; fill-opacity:1\" cx=\"554.625\" cy=\"1337.38\" r=\"14\"/>\n",
       "<circle clip-path=\"url(#clip5002)\" style=\"fill:#000000; stroke:none; fill-opacity:1\" cx=\"1136.79\" cy=\"912.53\" r=\"18\"/>\n",
       "<circle clip-path=\"url(#clip5002)\" style=\"fill:#009af9; stroke:none; fill-opacity:1\" cx=\"1136.79\" cy=\"912.53\" r=\"14\"/>\n",
       "<circle clip-path=\"url(#clip5002)\" style=\"fill:#000000; stroke:none; fill-opacity:1\" cx=\"1784.87\" cy=\"961.283\" r=\"18\"/>\n",
       "<circle clip-path=\"url(#clip5002)\" style=\"fill:#009af9; stroke:none; fill-opacity:1\" cx=\"1784.87\" cy=\"961.283\" r=\"14\"/>\n",
       "<circle clip-path=\"url(#clip5002)\" style=\"fill:#000000; stroke:none; fill-opacity:1\" cx=\"862.186\" cy=\"1072.72\" r=\"18\"/>\n",
       "<circle clip-path=\"url(#clip5002)\" style=\"fill:#009af9; stroke:none; fill-opacity:1\" cx=\"862.186\" cy=\"1072.72\" r=\"14\"/>\n",
       "<circle clip-path=\"url(#clip5002)\" style=\"fill:#000000; stroke:none; fill-opacity:1\" cx=\"1345.5\" cy=\"1093.61\" r=\"18\"/>\n",
       "<circle clip-path=\"url(#clip5002)\" style=\"fill:#009af9; stroke:none; fill-opacity:1\" cx=\"1345.5\" cy=\"1093.61\" r=\"14\"/>\n",
       "<circle clip-path=\"url(#clip5002)\" style=\"fill:#000000; stroke:none; fill-opacity:1\" cx=\"1696.99\" cy=\"961.283\" r=\"18\"/>\n",
       "<circle clip-path=\"url(#clip5002)\" style=\"fill:#009af9; stroke:none; fill-opacity:1\" cx=\"1696.99\" cy=\"961.283\" r=\"14\"/>\n",
       "<circle clip-path=\"url(#clip5002)\" style=\"fill:#000000; stroke:none; fill-opacity:1\" cx=\"1125.81\" cy=\"1058.79\" r=\"18\"/>\n",
       "<circle clip-path=\"url(#clip5002)\" style=\"fill:#009af9; stroke:none; fill-opacity:1\" cx=\"1125.81\" cy=\"1058.79\" r=\"14\"/>\n",
       "<circle clip-path=\"url(#clip5002)\" style=\"fill:#000000; stroke:none; fill-opacity:1\" cx=\"1642.07\" cy=\"1023.97\" r=\"18\"/>\n",
       "<circle clip-path=\"url(#clip5002)\" style=\"fill:#009af9; stroke:none; fill-opacity:1\" cx=\"1642.07\" cy=\"1023.97\" r=\"14\"/>\n",
       "<circle clip-path=\"url(#clip5002)\" style=\"fill:#000000; stroke:none; fill-opacity:1\" cx=\"1477.31\" cy=\"1037.9\" r=\"18\"/>\n",
       "<circle clip-path=\"url(#clip5002)\" style=\"fill:#009af9; stroke:none; fill-opacity:1\" cx=\"1477.31\" cy=\"1037.9\" r=\"14\"/>\n",
       "<circle clip-path=\"url(#clip5002)\" style=\"fill:#000000; stroke:none; fill-opacity:1\" cx=\"1718.96\" cy=\"1149.33\" r=\"18\"/>\n",
       "<circle clip-path=\"url(#clip5002)\" style=\"fill:#009af9; stroke:none; fill-opacity:1\" cx=\"1718.96\" cy=\"1149.33\" r=\"14\"/>\n",
       "<circle clip-path=\"url(#clip5002)\" style=\"fill:#000000; stroke:none; fill-opacity:1\" cx=\"785.296\" cy=\"1149.33\" r=\"18\"/>\n",
       "<circle clip-path=\"url(#clip5002)\" style=\"fill:#009af9; stroke:none; fill-opacity:1\" cx=\"785.296\" cy=\"1149.33\" r=\"14\"/>\n",
       "<circle clip-path=\"url(#clip5002)\" style=\"fill:#000000; stroke:none; fill-opacity:1\" cx=\"2125.38\" cy=\"571.254\" r=\"18\"/>\n",
       "<circle clip-path=\"url(#clip5002)\" style=\"fill:#009af9; stroke:none; fill-opacity:1\" cx=\"2125.38\" cy=\"571.254\" r=\"14\"/>\n",
       "<circle clip-path=\"url(#clip5002)\" style=\"fill:#000000; stroke:none; fill-opacity:1\" cx=\"1960.62\" cy=\"828.952\" r=\"18\"/>\n",
       "<circle clip-path=\"url(#clip5002)\" style=\"fill:#009af9; stroke:none; fill-opacity:1\" cx=\"1960.62\" cy=\"828.952\" r=\"14\"/>\n",
       "<circle clip-path=\"url(#clip5002)\" style=\"fill:#000000; stroke:none; fill-opacity:1\" cx=\"2213.26\" cy=\"529.465\" r=\"18\"/>\n",
       "<circle clip-path=\"url(#clip5002)\" style=\"fill:#009af9; stroke:none; fill-opacity:1\" cx=\"2213.26\" cy=\"529.465\" r=\"14\"/>\n",
       "<circle clip-path=\"url(#clip5002)\" style=\"fill:#000000; stroke:none; fill-opacity:1\" cx=\"2136.37\" cy=\"773.233\" r=\"18\"/>\n",
       "<circle clip-path=\"url(#clip5002)\" style=\"fill:#009af9; stroke:none; fill-opacity:1\" cx=\"2136.37\" cy=\"773.233\" r=\"14\"/>\n",
       "<circle clip-path=\"url(#clip5002)\" style=\"fill:#000000; stroke:none; fill-opacity:1\" cx=\"1960.62\" cy=\"626.972\" r=\"18\"/>\n",
       "<circle clip-path=\"url(#clip5002)\" style=\"fill:#009af9; stroke:none; fill-opacity:1\" cx=\"1960.62\" cy=\"626.972\" r=\"14\"/>\n",
       "<circle clip-path=\"url(#clip5002)\" style=\"fill:#000000; stroke:none; fill-opacity:1\" cx=\"203.127\" cy=\"835.917\" r=\"18\"/>\n",
       "<circle clip-path=\"url(#clip5002)\" style=\"fill:#e26f46; stroke:none; fill-opacity:1\" cx=\"203.127\" cy=\"835.917\" r=\"14\"/>\n",
       "<circle clip-path=\"url(#clip5002)\" style=\"fill:#000000; stroke:none; fill-opacity:1\" cx=\"214.112\" cy=\"557.324\" r=\"18\"/>\n",
       "<circle clip-path=\"url(#clip5002)\" style=\"fill:#e26f46; stroke:none; fill-opacity:1\" cx=\"214.112\" cy=\"557.324\" r=\"14\"/>\n",
       "<circle clip-path=\"url(#clip5002)\" style=\"fill:#000000; stroke:none; fill-opacity:1\" cx=\"258.049\" cy=\"543.394\" r=\"18\"/>\n",
       "<circle clip-path=\"url(#clip5002)\" style=\"fill:#e26f46; stroke:none; fill-opacity:1\" cx=\"258.049\" cy=\"543.394\" r=\"14\"/>\n",
       "<circle clip-path=\"url(#clip5002)\" style=\"fill:#000000; stroke:none; fill-opacity:1\" cx=\"587.578\" cy=\"452.852\" r=\"18\"/>\n",
       "<circle clip-path=\"url(#clip5002)\" style=\"fill:#e26f46; stroke:none; fill-opacity:1\" cx=\"587.578\" cy=\"452.852\" r=\"14\"/>\n",
       "<circle clip-path=\"url(#clip5002)\" style=\"fill:#000000; stroke:none; fill-opacity:1\" cx=\"258.049\" cy=\"633.937\" r=\"18\"/>\n",
       "<circle clip-path=\"url(#clip5002)\" style=\"fill:#e26f46; stroke:none; fill-opacity:1\" cx=\"258.049\" cy=\"633.937\" r=\"14\"/>\n",
       "<circle clip-path=\"url(#clip5002)\" style=\"fill:#000000; stroke:none; fill-opacity:1\" cx=\"961.044\" cy=\"438.922\" r=\"18\"/>\n",
       "<circle clip-path=\"url(#clip5002)\" style=\"fill:#e26f46; stroke:none; fill-opacity:1\" cx=\"961.044\" cy=\"438.922\" r=\"14\"/>\n",
       "<circle clip-path=\"url(#clip5002)\" style=\"fill:#000000; stroke:none; fill-opacity:1\" cx=\"752.343\" cy=\"160.33\" r=\"18\"/>\n",
       "<circle clip-path=\"url(#clip5002)\" style=\"fill:#e26f46; stroke:none; fill-opacity:1\" cx=\"752.343\" cy=\"160.33\" r=\"14\"/>\n",
       "<circle clip-path=\"url(#clip5002)\" style=\"fill:#000000; stroke:none; fill-opacity:1\" cx=\"1729.95\" cy=\"383.204\" r=\"18\"/>\n",
       "<circle clip-path=\"url(#clip5002)\" style=\"fill:#e26f46; stroke:none; fill-opacity:1\" cx=\"1729.95\" cy=\"383.204\" r=\"14\"/>\n",
       "<circle clip-path=\"url(#clip5002)\" style=\"fill:#000000; stroke:none; fill-opacity:1\" cx=\"1598.13\" cy=\"223.013\" r=\"18\"/>\n",
       "<circle clip-path=\"url(#clip5002)\" style=\"fill:#e26f46; stroke:none; fill-opacity:1\" cx=\"1598.13\" cy=\"223.013\" r=\"14\"/>\n",
       "<circle clip-path=\"url(#clip5002)\" style=\"fill:#000000; stroke:none; fill-opacity:1\" cx=\"1839.79\" cy=\"452.852\" r=\"18\"/>\n",
       "<circle clip-path=\"url(#clip5002)\" style=\"fill:#e26f46; stroke:none; fill-opacity:1\" cx=\"1839.79\" cy=\"452.852\" r=\"14\"/>\n",
       "<circle clip-path=\"url(#clip5002)\" style=\"fill:#000000; stroke:none; fill-opacity:1\" cx=\"1784.87\" cy=\"202.119\" r=\"18\"/>\n",
       "<circle clip-path=\"url(#clip5002)\" style=\"fill:#e26f46; stroke:none; fill-opacity:1\" cx=\"1784.87\" cy=\"202.119\" r=\"14\"/>\n",
       "<circle clip-path=\"url(#clip5002)\" style=\"fill:#000000; stroke:none; fill-opacity:1\" cx=\"1103.84\" cy=\"508.57\" r=\"18\"/>\n",
       "<circle clip-path=\"url(#clip5002)\" style=\"fill:#e26f46; stroke:none; fill-opacity:1\" cx=\"1103.84\" cy=\"508.57\" r=\"14\"/>\n",
       "<circle clip-path=\"url(#clip5002)\" style=\"fill:#000000; stroke:none; fill-opacity:1\" cx=\"807.264\" cy=\"236.943\" r=\"18\"/>\n",
       "<circle clip-path=\"url(#clip5002)\" style=\"fill:#e26f46; stroke:none; fill-opacity:1\" cx=\"807.264\" cy=\"236.943\" r=\"14\"/>\n",
       "<circle clip-path=\"url(#clip5002)\" style=\"fill:#000000; stroke:none; fill-opacity:1\" cx=\"1246.64\" cy=\"181.224\" r=\"18\"/>\n",
       "<circle clip-path=\"url(#clip5002)\" style=\"fill:#e26f46; stroke:none; fill-opacity:1\" cx=\"1246.64\" cy=\"181.224\" r=\"14\"/>\n",
       "<circle clip-path=\"url(#clip5002)\" style=\"fill:#000000; stroke:none; fill-opacity:1\" cx=\"895.139\" cy=\"264.802\" r=\"18\"/>\n",
       "<circle clip-path=\"url(#clip5002)\" style=\"fill:#e26f46; stroke:none; fill-opacity:1\" cx=\"895.139\" cy=\"264.802\" r=\"14\"/>\n",
       "<circle clip-path=\"url(#clip5002)\" style=\"fill:#000000; stroke:none; fill-opacity:1\" cx=\"2191.29\" cy=\"278.732\" r=\"18\"/>\n",
       "<circle clip-path=\"url(#clip5002)\" style=\"fill:#e26f46; stroke:none; fill-opacity:1\" cx=\"2191.29\" cy=\"278.732\" r=\"14\"/>\n",
       "<circle clip-path=\"url(#clip5002)\" style=\"fill:#000000; stroke:none; fill-opacity:1\" cx=\"2081.44\" cy=\"223.013\" r=\"18\"/>\n",
       "<circle clip-path=\"url(#clip5002)\" style=\"fill:#e26f46; stroke:none; fill-opacity:1\" cx=\"2081.44\" cy=\"223.013\" r=\"14\"/>\n",
       "<circle clip-path=\"url(#clip5002)\" style=\"fill:#000000; stroke:none; fill-opacity:1\" cx=\"2114.4\" cy=\"250.872\" r=\"18\"/>\n",
       "<circle clip-path=\"url(#clip5002)\" style=\"fill:#e26f46; stroke:none; fill-opacity:1\" cx=\"2114.4\" cy=\"250.872\" r=\"14\"/>\n",
       "<circle clip-path=\"url(#clip5002)\" style=\"fill:#000000; stroke:none; fill-opacity:1\" cx=\"2290.15\" cy=\"320.521\" r=\"18\"/>\n",
       "<circle clip-path=\"url(#clip5002)\" style=\"fill:#e26f46; stroke:none; fill-opacity:1\" cx=\"2290.15\" cy=\"320.521\" r=\"14\"/>\n",
       "<circle clip-path=\"url(#clip5002)\" style=\"fill:#000000; stroke:none; fill-opacity:1\" cx=\"2059.47\" cy=\"243.908\" r=\"18\"/>\n",
       "<circle clip-path=\"url(#clip5002)\" style=\"fill:#e26f46; stroke:none; fill-opacity:1\" cx=\"2059.47\" cy=\"243.908\" r=\"14\"/>\n",
       "<polyline clip-path=\"url(#clip5002)\" style=\"stroke:#3da44d; stroke-width:4; stroke-opacity:1; fill:none\" points=\"\n",
       "  203.127,1026.94 204.226,1026.62 205.324,1026.29 206.423,1025.97 207.521,1025.65 208.619,1025.33 209.718,1025 210.816,1024.68 211.915,1024.36 213.013,1024.03 \n",
       "  214.112,1023.71 215.21,1023.39 216.309,1023.07 217.407,1022.74 218.505,1022.42 219.604,1022.1 220.702,1021.78 221.801,1021.45 222.899,1021.13 223.998,1020.81 \n",
       "  225.096,1020.48 226.194,1020.16 227.293,1019.84 228.391,1019.52 229.49,1019.19 230.588,1018.87 231.687,1018.55 232.785,1018.22 233.883,1017.9 234.982,1017.58 \n",
       "  236.08,1017.26 237.179,1016.93 238.277,1016.61 239.376,1016.29 240.474,1015.97 241.572,1015.64 242.671,1015.32 243.769,1015 244.868,1014.67 245.966,1014.35 \n",
       "  247.065,1014.03 248.163,1013.71 249.261,1013.38 250.36,1013.06 251.458,1012.74 252.557,1012.42 253.655,1012.09 254.754,1011.77 255.852,1011.45 256.95,1011.12 \n",
       "  258.049,1010.8 259.147,1010.48 260.246,1010.16 261.344,1009.83 262.443,1009.51 263.541,1009.19 264.639,1008.86 265.738,1008.54 266.836,1008.22 267.935,1007.9 \n",
       "  269.033,1007.57 270.132,1007.25 271.23,1006.93 272.328,1006.61 273.427,1006.28 274.525,1005.96 275.624,1005.64 276.722,1005.31 277.821,1004.99 278.919,1004.67 \n",
       "  280.017,1004.35 281.116,1004.02 282.214,1003.7 283.313,1003.38 284.411,1003.06 285.51,1002.73 286.608,1002.41 287.706,1002.09 288.805,1001.76 289.903,1001.44 \n",
       "  291.002,1001.12 292.1,1000.8 293.199,1000.47 294.297,1000.15 295.396,999.827 296.494,999.505 297.592,999.182 298.691,998.859 299.789,998.536 300.888,998.214 \n",
       "  301.986,997.891 303.085,997.568 304.183,997.245 305.281,996.923 306.38,996.6 307.478,996.277 308.577,995.954 309.675,995.632 310.774,995.309 311.872,994.986 \n",
       "  312.97,994.663 314.069,994.341 315.167,994.018 316.266,993.695 317.364,993.372 318.463,993.05 319.561,992.727 320.659,992.404 321.758,992.081 322.856,991.758 \n",
       "  323.955,991.436 325.053,991.113 326.152,990.79 327.25,990.467 328.348,990.145 329.447,989.822 330.545,989.499 331.644,989.176 332.742,988.854 333.841,988.531 \n",
       "  334.939,988.208 336.037,987.885 337.136,987.563 338.234,987.24 339.333,986.917 340.431,986.594 341.53,986.272 342.628,985.949 343.726,985.626 344.825,985.303 \n",
       "  345.923,984.981 347.022,984.658 348.12,984.335 349.219,984.012 350.317,983.69 351.415,983.367 352.514,983.044 353.612,982.721 354.711,982.398 355.809,982.076 \n",
       "  356.908,981.753 358.006,981.43 359.104,981.107 360.203,980.785 361.301,980.462 362.4,980.139 363.498,979.816 364.597,979.494 365.695,979.171 366.793,978.848 \n",
       "  367.892,978.525 368.99,978.203 370.089,977.88 371.187,977.557 372.286,977.234 373.384,976.912 374.483,976.589 375.581,976.266 376.679,975.943 377.778,975.621 \n",
       "  378.876,975.298 379.975,974.975 381.073,974.652 382.172,974.329 383.27,974.007 384.368,973.684 385.467,973.361 386.565,973.038 387.664,972.716 388.762,972.393 \n",
       "  389.861,972.07 390.959,971.747 392.057,971.425 393.156,971.102 394.254,970.779 395.353,970.456 396.451,970.134 397.55,969.811 398.648,969.488 399.746,969.165 \n",
       "  400.845,968.843 401.943,968.52 403.042,968.197 404.14,967.874 405.239,967.552 406.337,967.229 407.435,966.906 408.534,966.583 409.632,966.26 410.731,965.938 \n",
       "  411.829,965.615 412.928,965.292 414.026,964.969 415.124,964.647 416.223,964.324 417.321,964.001 418.42,963.678 419.518,963.356 420.617,963.033 421.715,962.71 \n",
       "  422.813,962.387 423.912,962.065 425.01,961.742 426.109,961.419 427.207,961.096 428.306,960.774 429.404,960.451 430.502,960.128 431.601,959.805 432.699,959.483 \n",
       "  433.798,959.16 434.896,958.837 435.995,958.514 437.093,958.191 438.191,957.869 439.29,957.546 440.388,957.223 441.487,956.9 442.585,956.578 443.684,956.255 \n",
       "  444.782,955.932 445.88,955.609 446.979,955.287 448.077,954.964 449.176,954.641 450.274,954.318 451.373,953.996 452.471,953.673 453.57,953.35 454.668,953.027 \n",
       "  455.766,952.705 456.865,952.382 457.963,952.059 459.062,951.736 460.16,951.414 461.259,951.091 462.357,950.768 463.455,950.445 464.554,950.123 465.652,949.8 \n",
       "  466.751,949.477 467.849,949.154 468.948,948.831 470.046,948.509 471.144,948.186 472.243,947.863 473.341,947.54 474.44,947.218 475.538,946.895 476.637,946.572 \n",
       "  477.735,946.249 478.833,945.927 479.932,945.604 481.03,945.281 482.129,944.958 483.227,944.636 484.326,944.313 485.424,943.99 486.522,943.667 487.621,943.345 \n",
       "  488.719,943.022 489.818,942.699 490.916,942.376 492.015,942.054 493.113,941.731 494.211,941.408 495.31,941.085 496.408,940.762 497.507,940.44 498.605,940.117 \n",
       "  499.704,939.794 500.802,939.471 501.9,939.149 502.999,938.826 504.097,938.503 505.196,938.18 506.294,937.858 507.393,937.535 508.491,937.212 509.589,936.889 \n",
       "  510.688,936.567 511.786,936.244 512.885,935.921 513.983,935.598 515.082,935.276 516.18,934.953 517.278,934.63 518.377,934.307 519.475,933.985 520.574,933.662 \n",
       "  521.672,933.339 522.771,933.016 523.869,932.693 524.967,932.371 526.066,932.048 527.164,931.725 528.263,931.402 529.361,931.08 530.46,930.757 531.558,930.434 \n",
       "  532.657,930.111 533.755,929.789 534.853,929.466 535.952,929.143 537.05,928.82 538.149,928.498 539.247,928.175 540.346,927.852 541.444,927.529 542.542,927.207 \n",
       "  543.641,926.884 544.739,926.561 545.838,926.238 546.936,925.916 548.035,925.593 549.133,925.27 550.231,924.947 551.33,924.625 552.428,924.302 553.527,923.979 \n",
       "  554.625,923.656 555.724,923.333 556.822,923.011 557.92,922.688 559.019,922.365 560.117,922.042 561.216,921.72 562.314,921.397 563.413,921.074 564.511,920.751 \n",
       "  565.609,920.429 566.708,920.106 567.806,919.783 568.905,919.46 570.003,919.138 571.102,918.815 572.2,918.492 573.298,918.169 574.397,917.847 575.495,917.524 \n",
       "  576.594,917.201 577.692,916.878 578.791,916.556 579.889,916.233 580.987,915.91 582.086,915.587 583.184,915.264 584.283,914.942 585.381,914.619 586.48,914.296 \n",
       "  587.578,913.973 588.676,913.651 589.775,913.328 590.873,913.005 591.972,912.682 593.07,912.36 594.169,912.037 595.267,911.714 596.365,911.391 597.464,911.069 \n",
       "  598.562,910.746 599.661,910.423 600.759,910.1 601.858,909.778 602.956,909.455 604.054,909.132 605.153,908.809 606.251,908.487 607.35,908.164 608.448,907.841 \n",
       "  609.547,907.518 610.645,907.195 611.744,906.873 612.842,906.55 613.94,906.227 615.039,905.904 616.137,905.582 617.236,905.259 618.334,904.936 619.433,904.613 \n",
       "  620.531,904.291 621.629,903.968 622.728,903.645 623.826,903.322 624.925,903 626.023,902.677 627.122,902.354 628.22,902.031 629.318,901.709 630.417,901.386 \n",
       "  631.515,901.063 632.614,900.74 633.712,900.418 634.811,900.095 635.909,899.772 637.007,899.449 638.106,899.126 639.204,898.804 640.303,898.481 641.401,898.158 \n",
       "  642.5,897.835 643.598,897.513 644.696,897.19 645.795,896.867 646.893,896.544 647.992,896.222 649.09,895.899 650.189,895.576 651.287,895.253 652.385,894.931 \n",
       "  653.484,894.608 654.582,894.285 655.681,893.962 656.779,893.64 657.878,893.317 658.976,892.994 660.074,892.671 661.173,892.349 662.271,892.026 663.37,891.703 \n",
       "  664.468,891.38 665.567,891.058 666.665,890.735 667.763,890.412 668.862,890.089 669.96,889.766 671.059,889.444 672.157,889.121 673.256,888.798 674.354,888.475 \n",
       "  675.452,888.153 676.551,887.83 677.649,887.507 678.748,887.184 679.846,886.862 680.945,886.539 682.043,886.216 683.141,885.893 684.24,885.571 685.338,885.248 \n",
       "  686.437,884.925 687.535,884.602 688.634,884.28 689.732,883.957 690.831,883.634 691.929,883.311 693.027,882.989 694.126,882.666 695.224,882.343 696.323,882.02 \n",
       "  697.421,881.697 698.52,881.375 699.618,881.052 700.716,880.729 701.815,880.406 702.913,880.084 704.012,879.761 705.11,879.438 706.209,879.115 707.307,878.793 \n",
       "  708.405,878.47 709.504,878.147 710.602,877.824 711.701,877.502 712.799,877.179 713.898,876.856 714.996,876.533 716.094,876.211 717.193,875.888 718.291,875.565 \n",
       "  719.39,875.242 720.488,874.92 721.587,874.597 722.685,874.274 723.783,873.951 724.882,873.628 725.98,873.306 727.079,872.983 728.177,872.66 729.276,872.337 \n",
       "  730.374,872.015 731.472,871.692 732.571,871.369 733.669,871.046 734.768,870.724 735.866,870.401 736.965,870.078 738.063,869.755 739.161,869.433 740.26,869.11 \n",
       "  741.358,868.787 742.457,868.464 743.555,868.142 744.654,867.819 745.752,867.496 746.85,867.173 747.949,866.851 749.047,866.528 750.146,866.205 751.244,865.882 \n",
       "  752.343,865.56 753.441,865.237 754.539,864.914 755.638,864.591 756.736,864.268 757.835,863.946 758.933,863.623 760.032,863.3 761.13,862.977 762.228,862.655 \n",
       "  763.327,862.332 764.425,862.009 765.524,861.686 766.622,861.364 767.721,861.041 768.819,860.718 769.918,860.395 771.016,860.073 772.114,859.75 773.213,859.427 \n",
       "  774.311,859.104 775.41,858.782 776.508,858.459 777.607,858.136 778.705,857.813 779.803,857.491 780.902,857.168 782,856.845 783.099,856.522 784.197,856.199 \n",
       "  785.296,855.877 786.394,855.554 787.492,855.231 788.591,854.908 789.689,854.586 790.788,854.263 791.886,853.94 792.985,853.617 794.083,853.295 795.181,852.972 \n",
       "  796.28,852.649 797.378,852.326 798.477,852.004 799.575,851.681 800.674,851.358 801.772,851.035 802.87,850.713 803.969,850.39 805.067,850.067 806.166,849.744 \n",
       "  807.264,849.422 808.363,849.099 809.461,848.776 810.559,848.453 811.658,848.13 812.756,847.808 813.855,847.485 814.953,847.162 816.052,846.839 817.15,846.517 \n",
       "  818.248,846.194 819.347,845.871 820.445,845.548 821.544,845.226 822.642,844.903 823.741,844.58 824.839,844.257 825.937,843.935 827.036,843.612 828.134,843.289 \n",
       "  829.233,842.966 830.331,842.644 831.43,842.321 832.528,841.998 833.626,841.675 834.725,841.353 835.823,841.03 836.922,840.707 838.02,840.384 839.119,840.061 \n",
       "  840.217,839.739 841.315,839.416 842.414,839.093 843.512,838.77 844.611,838.448 845.709,838.125 846.808,837.802 847.906,837.479 849.005,837.157 850.103,836.834 \n",
       "  851.201,836.511 852.3,836.188 853.398,835.866 854.497,835.543 855.595,835.22 856.694,834.897 857.792,834.575 858.89,834.252 859.989,833.929 861.087,833.606 \n",
       "  862.186,833.284 863.284,832.961 864.383,832.638 865.481,832.315 866.579,831.993 867.678,831.67 868.776,831.347 869.875,831.024 870.973,830.701 872.072,830.379 \n",
       "  873.17,830.056 874.268,829.733 875.367,829.41 876.465,829.088 877.564,828.765 878.662,828.442 879.761,828.119 880.859,827.797 881.957,827.474 883.056,827.151 \n",
       "  884.154,826.828 885.253,826.506 886.351,826.183 887.45,825.86 888.548,825.537 889.646,825.215 890.745,824.892 891.843,824.569 892.942,824.246 894.04,823.924 \n",
       "  895.139,823.601 896.237,823.278 897.335,822.955 898.434,822.632 899.532,822.31 900.631,821.987 901.729,821.664 902.828,821.341 903.926,821.019 905.024,820.696 \n",
       "  906.123,820.373 907.221,820.05 908.32,819.728 909.418,819.405 910.517,819.082 911.615,818.759 912.713,818.437 913.812,818.114 914.91,817.791 916.009,817.468 \n",
       "  917.107,817.146 918.206,816.823 919.304,816.5 920.402,816.177 921.501,815.855 922.599,815.532 923.698,815.209 924.796,814.886 925.895,814.563 926.993,814.241 \n",
       "  928.092,813.918 929.19,813.595 930.288,813.272 931.387,812.95 932.485,812.627 933.584,812.304 934.682,811.981 935.781,811.659 936.879,811.336 937.977,811.013 \n",
       "  939.076,810.69 940.174,810.368 941.273,810.045 942.371,809.722 943.47,809.399 944.568,809.077 945.666,808.754 946.765,808.431 947.863,808.108 948.962,807.786 \n",
       "  950.06,807.463 951.159,807.14 952.257,806.817 953.355,806.495 954.454,806.172 955.552,805.849 956.651,805.526 957.749,805.203 958.848,804.881 959.946,804.558 \n",
       "  961.044,804.235 962.143,803.912 963.241,803.59 964.34,803.267 965.438,802.944 966.537,802.621 967.635,802.299 968.733,801.976 969.832,801.653 970.93,801.33 \n",
       "  972.029,801.008 973.127,800.685 974.226,800.362 975.324,800.039 976.422,799.717 977.521,799.394 978.619,799.071 979.718,798.748 980.816,798.426 981.915,798.103 \n",
       "  983.013,797.78 984.111,797.457 985.21,797.134 986.308,796.812 987.407,796.489 988.505,796.166 989.604,795.843 990.702,795.521 991.8,795.198 992.899,794.875 \n",
       "  993.997,794.552 995.096,794.23 996.194,793.907 997.293,793.584 998.391,793.261 999.489,792.939 1000.59,792.616 1001.69,792.293 1002.78,791.97 1003.88,791.648 \n",
       "  1004.98,791.325 1006.08,791.002 1007.18,790.679 1008.28,790.357 1009.38,790.034 1010.47,789.711 1011.57,789.388 1012.67,789.065 1013.77,788.743 1014.87,788.42 \n",
       "  1015.97,788.097 1017.06,787.774 1018.16,787.452 1019.26,787.129 1020.36,786.806 1021.46,786.483 1022.56,786.161 1023.65,785.838 1024.75,785.515 1025.85,785.192 \n",
       "  1026.95,784.87 1028.05,784.547 1029.15,784.224 1030.25,783.901 1031.34,783.579 1032.44,783.256 1033.54,782.933 1034.64,782.61 1035.74,782.288 1036.84,781.965 \n",
       "  1037.93,781.642 1039.03,781.319 1040.13,780.996 1041.23,780.674 1042.33,780.351 1043.43,780.028 1044.53,779.705 1045.62,779.383 1046.72,779.06 1047.82,778.737 \n",
       "  1048.92,778.414 1050.02,778.092 1051.12,777.769 1052.21,777.446 1053.31,777.123 1054.41,776.801 1055.51,776.478 1056.61,776.155 1057.71,775.832 1058.8,775.51 \n",
       "  1059.9,775.187 1061,774.864 1062.1,774.541 1063.2,774.219 1064.3,773.896 1065.4,773.573 1066.49,773.25 1067.59,772.928 1068.69,772.605 1069.79,772.282 \n",
       "  1070.89,771.959 1071.99,771.636 1073.08,771.314 1074.18,770.991 1075.28,770.668 1076.38,770.345 1077.48,770.023 1078.58,769.7 1079.67,769.377 1080.77,769.054 \n",
       "  1081.87,768.732 1082.97,768.409 1084.07,768.086 1085.17,767.763 1086.27,767.441 1087.36,767.118 1088.46,766.795 1089.56,766.472 1090.66,766.15 1091.76,765.827 \n",
       "  1092.86,765.504 1093.95,765.181 1095.05,764.859 1096.15,764.536 1097.25,764.213 1098.35,763.89 1099.45,763.567 1100.55,763.245 1101.64,762.922 1102.74,762.599 \n",
       "  1103.84,762.276 1104.94,761.954 1106.04,761.631 1107.14,761.308 1108.23,760.985 1109.33,760.663 1110.43,760.34 1111.53,760.017 1112.63,759.694 1113.73,759.372 \n",
       "  1114.82,759.049 1115.92,758.726 1117.02,758.403 1118.12,758.081 1119.22,757.758 1120.32,757.435 1121.42,757.112 1122.51,756.79 1123.61,756.467 1124.71,756.144 \n",
       "  1125.81,755.821 1126.91,755.498 1128.01,755.176 1129.1,754.853 1130.2,754.53 1131.3,754.207 1132.4,753.885 1133.5,753.562 1134.6,753.239 1135.69,752.916 \n",
       "  1136.79,752.594 1137.89,752.271 1138.99,751.948 1140.09,751.625 1141.19,751.303 1142.29,750.98 1143.38,750.657 1144.48,750.334 1145.58,750.012 1146.68,749.689 \n",
       "  1147.78,749.366 1148.88,749.043 1149.97,748.721 1151.07,748.398 1152.17,748.075 1153.27,747.752 1154.37,747.429 1155.47,747.107 1156.57,746.784 1157.66,746.461 \n",
       "  1158.76,746.138 1159.86,745.816 1160.96,745.493 1162.06,745.17 1163.16,744.847 1164.25,744.525 1165.35,744.202 1166.45,743.879 1167.55,743.556 1168.65,743.234 \n",
       "  1169.75,742.911 1170.84,742.588 1171.94,742.265 1173.04,741.943 1174.14,741.62 1175.24,741.297 1176.34,740.974 1177.44,740.652 1178.53,740.329 1179.63,740.006 \n",
       "  1180.73,739.683 1181.83,739.361 1182.93,739.038 1184.03,738.715 1185.12,738.392 1186.22,738.069 1187.32,737.747 1188.42,737.424 1189.52,737.101 1190.62,736.778 \n",
       "  1191.71,736.456 1192.81,736.133 1193.91,735.81 1195.01,735.487 1196.11,735.165 1197.21,734.842 1198.31,734.519 1199.4,734.196 1200.5,733.874 1201.6,733.551 \n",
       "  1202.7,733.228 1203.8,732.905 1204.9,732.583 1205.99,732.26 1207.09,731.937 1208.19,731.614 1209.29,731.292 1210.39,730.969 1211.49,730.646 1212.59,730.323 \n",
       "  1213.68,730 1214.78,729.678 1215.88,729.355 1216.98,729.032 1218.08,728.709 1219.18,728.387 1220.27,728.064 1221.37,727.741 1222.47,727.418 1223.57,727.096 \n",
       "  1224.67,726.773 1225.77,726.45 1226.86,726.127 1227.96,725.805 1229.06,725.482 1230.16,725.159 1231.26,724.836 1232.36,724.514 1233.46,724.191 1234.55,723.868 \n",
       "  1235.65,723.545 1236.75,723.223 1237.85,722.9 1238.95,722.577 1240.05,722.254 1241.14,721.931 1242.24,721.609 1243.34,721.286 1244.44,720.963 1245.54,720.64 \n",
       "  1246.64,720.318 1247.73,719.995 1248.83,719.672 1249.93,719.349 1251.03,719.027 1252.13,718.704 1253.23,718.381 1254.33,718.058 1255.42,717.736 1256.52,717.413 \n",
       "  1257.62,717.09 1258.72,716.767 1259.82,716.445 1260.92,716.122 1262.01,715.799 1263.11,715.476 1264.21,715.154 1265.31,714.831 1266.41,714.508 1267.51,714.185 \n",
       "  1268.6,713.863 1269.7,713.54 1270.8,713.217 1271.9,712.894 1273,712.571 1274.1,712.249 1275.2,711.926 1276.29,711.603 1277.39,711.28 1278.49,710.958 \n",
       "  1279.59,710.635 1280.69,710.312 1281.79,709.989 1282.88,709.667 1283.98,709.344 1285.08,709.021 1286.18,708.698 1287.28,708.376 1288.38,708.053 1289.48,707.73 \n",
       "  1290.57,707.407 1291.67,707.085 1292.77,706.762 1293.87,706.439 1294.97,706.116 1296.07,705.794 1297.16,705.471 1298.26,705.148 1299.36,704.825 1300.46,704.502 \n",
       "  1301.56,704.18 1302.66,703.857 1303.75,703.534 1304.85,703.211 1305.95,702.889 1307.05,702.566 1308.15,702.243 1309.25,701.92 1310.35,701.598 1311.44,701.275 \n",
       "  1312.54,700.952 1313.64,700.629 1314.74,700.307 1315.84,699.984 1316.94,699.661 1318.03,699.338 1319.13,699.016 1320.23,698.693 1321.33,698.37 1322.43,698.047 \n",
       "  1323.53,697.725 1324.62,697.402 1325.72,697.079 1326.82,696.756 1327.92,696.433 1329.02,696.111 1330.12,695.788 1331.22,695.465 1332.31,695.142 1333.41,694.82 \n",
       "  1334.51,694.497 1335.61,694.174 1336.71,693.851 1337.81,693.529 1338.9,693.206 1340,692.883 1341.1,692.56 1342.2,692.238 1343.3,691.915 1344.4,691.592 \n",
       "  1345.5,691.269 1346.59,690.947 1347.69,690.624 1348.79,690.301 1349.89,689.978 1350.99,689.656 1352.09,689.333 1353.18,689.01 1354.28,688.687 1355.38,688.364 \n",
       "  1356.48,688.042 1357.58,687.719 1358.68,687.396 1359.77,687.073 1360.87,686.751 1361.97,686.428 1363.07,686.105 1364.17,685.782 1365.27,685.46 1366.37,685.137 \n",
       "  1367.46,684.814 1368.56,684.491 1369.66,684.169 1370.76,683.846 1371.86,683.523 1372.96,683.2 1374.05,682.878 1375.15,682.555 1376.25,682.232 1377.35,681.909 \n",
       "  1378.45,681.587 1379.55,681.264 1380.64,680.941 1381.74,680.618 1382.84,680.296 1383.94,679.973 1385.04,679.65 1386.14,679.327 1387.24,679.004 1388.33,678.682 \n",
       "  1389.43,678.359 1390.53,678.036 1391.63,677.713 1392.73,677.391 1393.83,677.068 1394.92,676.745 1396.02,676.422 1397.12,676.1 1398.22,675.777 1399.32,675.454 \n",
       "  1400.42,675.131 1401.52,674.809 1402.61,674.486 1403.71,674.163 1404.81,673.84 1405.91,673.518 1407.01,673.195 1408.11,672.872 1409.2,672.549 1410.3,672.227 \n",
       "  1411.4,671.904 1412.5,671.581 1413.6,671.258 1414.7,670.935 1415.79,670.613 1416.89,670.29 1417.99,669.967 1419.09,669.644 1420.19,669.322 1421.29,668.999 \n",
       "  1422.39,668.676 1423.48,668.353 1424.58,668.031 1425.68,667.708 1426.78,667.385 1427.88,667.062 1428.98,666.74 1430.07,666.417 1431.17,666.094 1432.27,665.771 \n",
       "  1433.37,665.449 1434.47,665.126 1435.57,664.803 1436.66,664.48 1437.76,664.158 1438.86,663.835 1439.96,663.512 1441.06,663.189 1442.16,662.866 1443.26,662.544 \n",
       "  1444.35,662.221 1445.45,661.898 1446.55,661.575 1447.65,661.253 1448.75,660.93 1449.85,660.607 1450.94,660.284 1452.04,659.962 1453.14,659.639 1454.24,659.316 \n",
       "  1455.34,658.993 1456.44,658.671 1457.54,658.348 1458.63,658.025 1459.73,657.702 1460.83,657.38 1461.93,657.057 1463.03,656.734 1464.13,656.411 1465.22,656.089 \n",
       "  1466.32,655.766 1467.42,655.443 1468.52,655.12 1469.62,654.798 1470.72,654.475 1471.81,654.152 1472.91,653.829 1474.01,653.506 1475.11,653.184 1476.21,652.861 \n",
       "  1477.31,652.538 1478.41,652.215 1479.5,651.893 1480.6,651.57 1481.7,651.247 1482.8,650.924 1483.9,650.602 1485,650.279 1486.09,649.956 1487.19,649.633 \n",
       "  1488.29,649.311 1489.39,648.988 1490.49,648.665 1491.59,648.342 1492.68,648.02 1493.78,647.697 1494.88,647.374 1495.98,647.051 1497.08,646.729 1498.18,646.406 \n",
       "  1499.28,646.083 1500.37,645.76 1501.47,645.437 1502.57,645.115 1503.67,644.792 1504.77,644.469 1505.87,644.146 1506.96,643.824 1508.06,643.501 1509.16,643.178 \n",
       "  1510.26,642.855 1511.36,642.533 1512.46,642.21 1513.55,641.887 1514.65,641.564 1515.75,641.242 1516.85,640.919 1517.95,640.596 1519.05,640.273 1520.15,639.951 \n",
       "  1521.24,639.628 1522.34,639.305 1523.44,638.982 1524.54,638.66 1525.64,638.337 1526.74,638.014 1527.83,637.691 1528.93,637.368 1530.03,637.046 1531.13,636.723 \n",
       "  1532.23,636.4 1533.33,636.077 1534.43,635.755 1535.52,635.432 1536.62,635.109 1537.72,634.786 1538.82,634.464 1539.92,634.141 1541.02,633.818 1542.11,633.495 \n",
       "  1543.21,633.173 1544.31,632.85 1545.41,632.527 1546.51,632.204 1547.61,631.882 1548.7,631.559 1549.8,631.236 1550.9,630.913 1552,630.591 1553.1,630.268 \n",
       "  1554.2,629.945 1555.3,629.622 1556.39,629.299 1557.49,628.977 1558.59,628.654 1559.69,628.331 1560.79,628.008 1561.89,627.686 1562.98,627.363 1564.08,627.04 \n",
       "  1565.18,626.717 1566.28,626.395 1567.38,626.072 1568.48,625.749 1569.57,625.426 1570.67,625.104 1571.77,624.781 1572.87,624.458 1573.97,624.135 1575.07,623.813 \n",
       "  1576.17,623.49 1577.26,623.167 1578.36,622.844 1579.46,622.522 1580.56,622.199 1581.66,621.876 1582.76,621.553 1583.85,621.231 1584.95,620.908 1586.05,620.585 \n",
       "  1587.15,620.262 1588.25,619.939 1589.35,619.617 1590.45,619.294 1591.54,618.971 1592.64,618.648 1593.74,618.326 1594.84,618.003 1595.94,617.68 1597.04,617.357 \n",
       "  1598.13,617.035 1599.23,616.712 1600.33,616.389 1601.43,616.066 1602.53,615.744 1603.63,615.421 1604.72,615.098 1605.82,614.775 1606.92,614.453 1608.02,614.13 \n",
       "  1609.12,613.807 1610.22,613.484 1611.32,613.162 1612.41,612.839 1613.51,612.516 1614.61,612.193 1615.71,611.87 1616.81,611.548 1617.91,611.225 1619,610.902 \n",
       "  1620.1,610.579 1621.2,610.257 1622.3,609.934 1623.4,609.611 1624.5,609.288 1625.59,608.966 1626.69,608.643 1627.79,608.32 1628.89,607.997 1629.99,607.675 \n",
       "  1631.09,607.352 1632.19,607.029 1633.28,606.706 1634.38,606.384 1635.48,606.061 1636.58,605.738 1637.68,605.415 1638.78,605.093 1639.87,604.77 1640.97,604.447 \n",
       "  1642.07,604.124 1643.17,603.801 1644.27,603.479 1645.37,603.156 1646.47,602.833 1647.56,602.51 1648.66,602.188 1649.76,601.865 1650.86,601.542 1651.96,601.219 \n",
       "  1653.06,600.897 1654.15,600.574 1655.25,600.251 1656.35,599.928 1657.45,599.606 1658.55,599.283 1659.65,598.96 1660.74,598.637 1661.84,598.315 1662.94,597.992 \n",
       "  1664.04,597.669 1665.14,597.346 1666.24,597.024 1667.34,596.701 1668.43,596.378 1669.53,596.055 1670.63,595.733 1671.73,595.41 1672.83,595.087 1673.93,594.764 \n",
       "  1675.02,594.441 1676.12,594.119 1677.22,593.796 1678.32,593.473 1679.42,593.15 1680.52,592.828 1681.61,592.505 1682.71,592.182 1683.81,591.859 1684.91,591.537 \n",
       "  1686.01,591.214 1687.11,590.891 1688.21,590.568 1689.3,590.246 1690.4,589.923 1691.5,589.6 1692.6,589.277 1693.7,588.955 1694.8,588.632 1695.89,588.309 \n",
       "  1696.99,587.986 1698.09,587.664 1699.19,587.341 1700.29,587.018 1701.39,586.695 1702.49,586.372 1703.58,586.05 1704.68,585.727 1705.78,585.404 1706.88,585.081 \n",
       "  1707.98,584.759 1709.08,584.436 1710.17,584.113 1711.27,583.79 1712.37,583.468 1713.47,583.145 1714.57,582.822 1715.67,582.499 1716.76,582.177 1717.86,581.854 \n",
       "  1718.96,581.531 1720.06,581.208 1721.16,580.886 1722.26,580.563 1723.36,580.24 1724.45,579.917 1725.55,579.595 1726.65,579.272 1727.75,578.949 1728.85,578.626 \n",
       "  1729.95,578.303 1731.04,577.981 1732.14,577.658 1733.24,577.335 1734.34,577.012 1735.44,576.69 1736.54,576.367 1737.63,576.044 1738.73,575.721 1739.83,575.399 \n",
       "  1740.93,575.076 1742.03,574.753 1743.13,574.43 1744.23,574.108 1745.32,573.785 1746.42,573.462 1747.52,573.139 1748.62,572.817 1749.72,572.494 1750.82,572.171 \n",
       "  1751.91,571.848 1753.01,571.526 1754.11,571.203 1755.21,570.88 1756.31,570.557 1757.41,570.234 1758.5,569.912 1759.6,569.589 1760.7,569.266 1761.8,568.943 \n",
       "  1762.9,568.621 1764,568.298 1765.1,567.975 1766.19,567.652 1767.29,567.33 1768.39,567.007 1769.49,566.684 1770.59,566.361 1771.69,566.039 1772.78,565.716 \n",
       "  1773.88,565.393 1774.98,565.07 1776.08,564.748 1777.18,564.425 1778.28,564.102 1779.38,563.779 1780.47,563.457 1781.57,563.134 1782.67,562.811 1783.77,562.488 \n",
       "  1784.87,562.166 1785.97,561.843 1787.06,561.52 1788.16,561.197 1789.26,560.874 1790.36,560.552 1791.46,560.229 1792.56,559.906 1793.65,559.583 1794.75,559.261 \n",
       "  1795.85,558.938 1796.95,558.615 1798.05,558.292 1799.15,557.97 1800.25,557.647 1801.34,557.324 1802.44,557.001 1803.54,556.679 1804.64,556.356 1805.74,556.033 \n",
       "  1806.84,555.71 1807.93,555.388 1809.03,555.065 1810.13,554.742 1811.23,554.419 1812.33,554.097 1813.43,553.774 1814.52,553.451 1815.62,553.128 1816.72,552.805 \n",
       "  1817.82,552.483 1818.92,552.16 1820.02,551.837 1821.12,551.514 1822.21,551.192 1823.31,550.869 1824.41,550.546 1825.51,550.223 1826.61,549.901 1827.71,549.578 \n",
       "  1828.8,549.255 1829.9,548.932 1831,548.61 1832.1,548.287 1833.2,547.964 1834.3,547.641 1835.4,547.319 1836.49,546.996 1837.59,546.673 1838.69,546.35 \n",
       "  1839.79,546.028 1840.89,545.705 1841.99,545.382 1843.08,545.059 1844.18,544.736 1845.28,544.414 1846.38,544.091 1847.48,543.768 1848.58,543.445 1849.67,543.123 \n",
       "  1850.77,542.8 1851.87,542.477 1852.97,542.154 1854.07,541.832 1855.17,541.509 1856.27,541.186 1857.36,540.863 1858.46,540.541 1859.56,540.218 1860.66,539.895 \n",
       "  1861.76,539.572 1862.86,539.25 1863.95,538.927 1865.05,538.604 1866.15,538.281 1867.25,537.959 1868.35,537.636 1869.45,537.313 1870.54,536.99 1871.64,536.667 \n",
       "  1872.74,536.345 1873.84,536.022 1874.94,535.699 1876.04,535.376 1877.14,535.054 1878.23,534.731 1879.33,534.408 1880.43,534.085 1881.53,533.763 1882.63,533.44 \n",
       "  1883.73,533.117 1884.82,532.794 1885.92,532.472 1887.02,532.149 1888.12,531.826 1889.22,531.503 1890.32,531.181 1891.42,530.858 1892.51,530.535 1893.61,530.212 \n",
       "  1894.71,529.89 1895.81,529.567 1896.91,529.244 1898.01,528.921 1899.1,528.599 1900.2,528.276 1901.3,527.953 1902.4,527.63 1903.5,527.307 1904.6,526.985 \n",
       "  1905.69,526.662 1906.79,526.339 1907.89,526.016 1908.99,525.694 1910.09,525.371 1911.19,525.048 1912.29,524.725 1913.38,524.403 1914.48,524.08 1915.58,523.757 \n",
       "  1916.68,523.434 1917.78,523.112 1918.88,522.789 1919.97,522.466 1921.07,522.143 1922.17,521.821 1923.27,521.498 1924.37,521.175 1925.47,520.852 1926.56,520.53 \n",
       "  1927.66,520.207 1928.76,519.884 1929.86,519.561 1930.96,519.238 1932.06,518.916 1933.16,518.593 1934.25,518.27 1935.35,517.947 1936.45,517.625 1937.55,517.302 \n",
       "  1938.65,516.979 1939.75,516.656 1940.84,516.334 1941.94,516.011 1943.04,515.688 1944.14,515.365 1945.24,515.043 1946.34,514.72 1947.44,514.397 1948.53,514.074 \n",
       "  1949.63,513.752 1950.73,513.429 1951.83,513.106 1952.93,512.783 1954.03,512.461 1955.12,512.138 1956.22,511.815 1957.32,511.492 1958.42,511.169 1959.52,510.847 \n",
       "  1960.62,510.524 1961.71,510.201 1962.81,509.878 1963.91,509.556 1965.01,509.233 1966.11,508.91 1967.21,508.587 1968.31,508.265 1969.4,507.942 1970.5,507.619 \n",
       "  1971.6,507.296 1972.7,506.974 1973.8,506.651 1974.9,506.328 1975.99,506.005 1977.09,505.683 1978.19,505.36 1979.29,505.037 1980.39,504.714 1981.49,504.392 \n",
       "  1982.58,504.069 1983.68,503.746 1984.78,503.423 1985.88,503.101 1986.98,502.778 1988.08,502.455 1989.18,502.132 1990.27,501.809 1991.37,501.487 1992.47,501.164 \n",
       "  1993.57,500.841 1994.67,500.518 1995.77,500.196 1996.86,499.873 1997.96,499.55 1999.06,499.227 2000.16,498.905 2001.26,498.582 2002.36,498.259 2003.45,497.936 \n",
       "  2004.55,497.614 2005.65,497.291 2006.75,496.968 2007.85,496.645 2008.95,496.323 2010.05,496 2011.14,495.677 2012.24,495.354 2013.34,495.032 2014.44,494.709 \n",
       "  2015.54,494.386 2016.64,494.063 2017.73,493.74 2018.83,493.418 2019.93,493.095 2021.03,492.772 2022.13,492.449 2023.23,492.127 2024.33,491.804 2025.42,491.481 \n",
       "  2026.52,491.158 2027.62,490.836 2028.72,490.513 2029.82,490.19 2030.92,489.867 2032.01,489.545 2033.11,489.222 2034.21,488.899 2035.31,488.576 2036.41,488.254 \n",
       "  2037.51,487.931 2038.6,487.608 2039.7,487.285 2040.8,486.963 2041.9,486.64 2043,486.317 2044.1,485.994 2045.2,485.671 2046.29,485.349 2047.39,485.026 \n",
       "  2048.49,484.703 2049.59,484.38 2050.69,484.058 2051.79,483.735 2052.88,483.412 2053.98,483.089 2055.08,482.767 2056.18,482.444 2057.28,482.121 2058.38,481.798 \n",
       "  2059.47,481.476 2060.57,481.153 2061.67,480.83 2062.77,480.507 2063.87,480.185 2064.97,479.862 2066.07,479.539 2067.16,479.216 2068.26,478.894 2069.36,478.571 \n",
       "  2070.46,478.248 2071.56,477.925 2072.66,477.602 2073.75,477.28 2074.85,476.957 2075.95,476.634 2077.05,476.311 2078.15,475.989 2079.25,475.666 2080.35,475.343 \n",
       "  2081.44,475.02 2082.54,474.698 2083.64,474.375 2084.74,474.052 2085.84,473.729 2086.94,473.407 2088.03,473.084 2089.13,472.761 2090.23,472.438 2091.33,472.116 \n",
       "  2092.43,471.793 2093.53,471.47 2094.62,471.147 2095.72,470.825 2096.82,470.502 2097.92,470.179 2099.02,469.856 2100.12,469.534 2101.22,469.211 2102.31,468.888 \n",
       "  2103.41,468.565 2104.51,468.242 2105.61,467.92 2106.71,467.597 2107.81,467.274 2108.9,466.951 2110,466.629 2111.1,466.306 2112.2,465.983 2113.3,465.66 \n",
       "  2114.4,465.338 2115.49,465.015 2116.59,464.692 2117.69,464.369 2118.79,464.047 2119.89,463.724 2120.99,463.401 2122.09,463.078 2123.18,462.756 2124.28,462.433 \n",
       "  2125.38,462.11 2126.48,461.787 2127.58,461.465 2128.68,461.142 2129.77,460.819 2130.87,460.496 2131.97,460.173 2133.07,459.851 2134.17,459.528 2135.27,459.205 \n",
       "  2136.37,458.882 2137.46,458.56 2138.56,458.237 2139.66,457.914 2140.76,457.591 2141.86,457.269 2142.96,456.946 2144.05,456.623 2145.15,456.3 2146.25,455.978 \n",
       "  2147.35,455.655 2148.45,455.332 2149.55,455.009 2150.64,454.687 2151.74,454.364 2152.84,454.041 2153.94,453.718 2155.04,453.396 2156.14,453.073 2157.24,452.75 \n",
       "  2158.33,452.427 2159.43,452.104 2160.53,451.782 2161.63,451.459 2162.73,451.136 2163.83,450.813 2164.92,450.491 2166.02,450.168 2167.12,449.845 2168.22,449.522 \n",
       "  2169.32,449.2 2170.42,448.877 2171.51,448.554 2172.61,448.231 2173.71,447.909 2174.81,447.586 2175.91,447.263 2177.01,446.94 2178.11,446.618 2179.2,446.295 \n",
       "  2180.3,445.972 2181.4,445.649 2182.5,445.327 2183.6,445.004 2184.7,444.681 2185.79,444.358 2186.89,444.036 2187.99,443.713 2189.09,443.39 2190.19,443.067 \n",
       "  2191.29,442.744 2192.39,442.422 2193.48,442.099 2194.58,441.776 2195.68,441.453 2196.78,441.131 2197.88,440.808 2198.98,440.485 2200.07,440.162 2201.17,439.84 \n",
       "  2202.27,439.517 2203.37,439.194 2204.47,438.871 2205.57,438.549 2206.66,438.226 2207.76,437.903 2208.86,437.58 2209.96,437.258 2211.06,436.935 2212.16,436.612 \n",
       "  2213.26,436.289 2214.35,435.967 2215.45,435.644 2216.55,435.321 2217.65,434.998 2218.75,434.675 2219.85,434.353 2220.94,434.03 2222.04,433.707 2223.14,433.384 \n",
       "  2224.24,433.062 2225.34,432.739 2226.44,432.416 2227.53,432.093 2228.63,431.771 2229.73,431.448 2230.83,431.125 2231.93,430.802 2233.03,430.48 2234.13,430.157 \n",
       "  2235.22,429.834 2236.32,429.511 2237.42,429.189 2238.52,428.866 2239.62,428.543 2240.72,428.22 2241.81,427.898 2242.91,427.575 2244.01,427.252 2245.11,426.929 \n",
       "  2246.21,426.606 2247.31,426.284 2248.41,425.961 2249.5,425.638 2250.6,425.315 2251.7,424.993 2252.8,424.67 2253.9,424.347 2255,424.024 2256.09,423.702 \n",
       "  2257.19,423.379 2258.29,423.056 2259.39,422.733 2260.49,422.411 2261.59,422.088 2262.68,421.765 2263.78,421.442 2264.88,421.12 2265.98,420.797 2267.08,420.474 \n",
       "  2268.18,420.151 2269.28,419.829 2270.37,419.506 2271.47,419.183 2272.57,418.86 2273.67,418.537 2274.77,418.215 2275.87,417.892 2276.96,417.569 2278.06,417.246 \n",
       "  2279.16,416.924 2280.26,416.601 2281.36,416.278 2282.46,415.955 2283.55,415.633 2284.65,415.31 2285.75,414.987 2286.85,414.664 2287.95,414.342 2289.05,414.019 \n",
       "  2290.15,413.696 \n",
       "  \"/>\n",
       "<polygon clip-path=\"url(#clip5000)\" points=\"\n",
       "1794.65,507.595 2280.76,507.595 2280.76,205.195 1794.65,205.195 \n",
       "  \" fill=\"#ffffff\" fill-rule=\"evenodd\" fill-opacity=\"1\"/>\n",
       "<polyline clip-path=\"url(#clip5000)\" style=\"stroke:#000000; stroke-width:4; stroke-opacity:1; fill:none\" points=\"\n",
       "  1794.65,507.595 2280.76,507.595 2280.76,205.195 1794.65,205.195 1794.65,507.595 \n",
       "  \"/>\n",
       "<g clip-path=\"url(#clip5000)\">\n",
       "<text style=\"fill:#000000; fill-opacity:1; font-family:Arial,Helvetica Neue,Helvetica,sans-serif; font-size:48px; text-anchor:middle;\" transform=\"rotate(0, 2037.7, 283.175)\" x=\"2037.7\" y=\"283.175\">Features</text>\n",
       "</g>\n",
       "<circle clip-path=\"url(#clip5000)\" style=\"fill:#000000; stroke:none; fill-opacity:1\" cx=\"1902.65\" cy=\"326.155\" r=\"25\"/>\n",
       "<circle clip-path=\"url(#clip5000)\" style=\"fill:#009af9; stroke:none; fill-opacity:1\" cx=\"1902.65\" cy=\"326.155\" r=\"21\"/>\n",
       "<g clip-path=\"url(#clip5000)\">\n",
       "<text style=\"fill:#000000; fill-opacity:1; font-family:Arial,Helvetica Neue,Helvetica,sans-serif; font-size:48px; text-anchor:start;\" transform=\"rotate(0, 1986.65, 343.655)\" x=\"1986.65\" y=\"343.655\">feature &apos;y1&apos;</text>\n",
       "</g>\n",
       "<circle clip-path=\"url(#clip5000)\" style=\"fill:#000000; stroke:none; fill-opacity:1\" cx=\"1902.65\" cy=\"386.635\" r=\"25\"/>\n",
       "<circle clip-path=\"url(#clip5000)\" style=\"fill:#e26f46; stroke:none; fill-opacity:1\" cx=\"1902.65\" cy=\"386.635\" r=\"21\"/>\n",
       "<g clip-path=\"url(#clip5000)\">\n",
       "<text style=\"fill:#000000; fill-opacity:1; font-family:Arial,Helvetica Neue,Helvetica,sans-serif; font-size:48px; text-anchor:start;\" transform=\"rotate(0, 1986.65, 404.135)\" x=\"1986.65\" y=\"404.135\">feature &apos;y2&apos;</text>\n",
       "</g>\n",
       "<polyline clip-path=\"url(#clip5000)\" style=\"stroke:#3da44d; stroke-width:4; stroke-opacity:1; fill:none\" points=\"\n",
       "  1818.65,447.115 1962.65,447.115 \n",
       "  \"/>\n",
       "<g clip-path=\"url(#clip5000)\">\n",
       "<text style=\"fill:#000000; fill-opacity:1; font-family:Arial,Helvetica Neue,Helvetica,sans-serif; font-size:48px; text-anchor:start;\" transform=\"rotate(0, 1986.65, 464.615)\" x=\"1986.65\" y=\"464.615\">Hyperplane</text>\n",
       "</g>\n",
       "</svg>\n"
      ]
     },
     "execution_count": 8,
     "metadata": {},
     "output_type": "execute_result"
    }
   ],
   "source": [
    "hyperplane = create_2D_linear_function(omega.value, b.value)\n",
    "line_x_data = collect(x1_domain[1]:0.01:x1_domain[2])\n",
    "line_y_data = hyperplane.(line_x_data)\n",
    "plot!(line_x_data, line_y_data, label=[\"Hyperplane\"], seriestype=:line, title=\"Support Vector Machine\")"
   ]
  },
  {
   "cell_type": "markdown",
   "metadata": {},
   "source": [
    "Ako vidíme, všetko funguje ako má a naše 2 skupiny bodov s vlastnosťami $y_1$ a $y_2$ sú jednoznačne oddelené našou nadrovinou. Keď teraz dostaneme za úlohu rozhodnúť, ktorú vlastnosť má nejaký bod z tohto priestoru, môžeme na to využiť tento model a priradiť mú vlastnosť podľa toho, na ktorej strane(priestoru oddeľovaného nadrovinou) sa nachádza."
   ]
  },
  {
   "cell_type": "markdown",
   "metadata": {},
   "source": [
    "Úplne rovnaký postup pre nájdenie optimálnej nadroviny by sme mohli zvoliť pre **ľubovoľnú** dimenziu nielen 2D."
   ]
  },
  {
   "cell_type": "markdown",
   "metadata": {},
   "source": [
    "Existenciu riešenia sme zaručenú nemali. Sú však variácie tohto problému, kde pomocou dodatočne zadefinovaných umelých premenných môžeme relaxovať optimalizačné obmedzenia a aj keď dáta nevieme lineárne separovať, stále vieme nájsť nadrovinu \"kvázi\" vyhovujúcu naším potrebám. Ide o tzv. \"_Soft Margin SVM_\""
   ]
  },
  {
   "cell_type": "markdown",
   "metadata": {},
   "source": [
    "Sú rôzne variácie SVM. Body sa dajú separovať aj nelineárne, prípadne môžeme penalizovať isté faktory, čím dokážeme model lepšie napasovať na náš problém. Vo všeobecnosti má SVM rôznorodé aplikácie naprieč spektrom odvetví."
   ]
  },
  {
   "cell_type": "markdown",
   "metadata": {},
   "source": [
    "## Záver"
   ]
  },
  {
   "cell_type": "markdown",
   "metadata": {},
   "source": [
    "Opdorúčam, aby ste si pomenili parametre funkcií, poskúšali rôzne situácie a precvičili si tak Juliu. Prípadne model rozšírili na [soft-margin](https://www.saedsayad.com/support_vector_machine.htm) alebo si skúsili naprogramovať vlastnú optimalizačnú úlohu alebo skriptík v Julii. Ak uvažujete v pokračovaní v online precvičovaní Julie, vyskúšajte [JuliaBox](https://juliabox.com/), je zadarmo, len sa musíte prihlásiť, napríklad e-mailom."
   ]
  }
 ],
 "metadata": {
  "kernelspec": {
   "display_name": "Julia 1.1.0",
   "language": "julia",
   "name": "julia-1.1"
  },
  "language_info": {
   "file_extension": ".jl",
   "mimetype": "application/julia",
   "name": "julia",
   "version": "1.1.0"
  }
 },
 "nbformat": 4,
 "nbformat_minor": 2
}
