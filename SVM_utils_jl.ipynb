{
 "cells": [
  {
   "cell_type": "markdown",
   "metadata": {},
   "source": [
    "# Pomocné funkcie\n",
    "V tomto zápisníku je prehľad použitých pomocných funkcíí napísaných pre účely tohto dema a využitých v tutoriáli."
   ]
  },
  {
   "cell_type": "markdown",
   "metadata": {},
   "source": [
    "## generate_2D_dataset()"
   ]
  },
  {
   "cell_type": "markdown",
   "metadata": {},
   "source": [
    "Táto pomocná funkcia vygeneruje $[x1,x2]$ 2D dataset v $R^2$ na základe vstupných parametrov:"
   ]
  },
  {
   "cell_type": "markdown",
   "metadata": {},
   "source": [
    "$n$: Počet bodov v datasete"
   ]
  },
  {
   "cell_type": "markdown",
   "metadata": {},
   "source": [
    "$x1\\_scope$: interval - definičný obor "
   ]
  },
  {
   "cell_type": "markdown",
   "metadata": {},
   "source": [
    "$x2\\_scope$: interval - definičný obor (v $R^2$: $x=x1$; $y=x2$, predstavuje obor hodnôt)"
   ]
  },
  {
   "cell_type": "markdown",
   "metadata": {},
   "source": [
    "$accurancy$: S akou presnosťou sa majú súradnice vygenerovať"
   ]
  },
  {
   "cell_type": "markdown",
   "metadata": {},
   "source": [
    "$equidistant$: Ak $true$, potom je rozdelenie bodov na $x1$ ekvidistantné"
   ]
  },
  {
   "cell_type": "code",
   "execution_count": null,
   "metadata": {},
   "outputs": [],
   "source": [
    "function generate_2D_dataset(n::Int, x1_scope::Tuple, x2_scope::Tuple, accurancy::Number, equidistant::Bool=false)\n",
    "# n: Number of generated points in 2D (i.e. points in the form [x1, x2])\n",
    "# x1_scope: Definition domain of the 2D function if x=x1,y=x2.\n",
    "# x2_scope: Function range  of the 2D function if x=x1,y=x2.\n",
    "# accurancy: Decimal number representing valid decimal places in function values.\n",
    "# equidistant: Whether x1 points should be equidistant or not(defaut), i.e. generated randomly as x2 points.\n",
    "    x1_min, x1_max = x1_scope\n",
    "    x2_min, x2_max = x2_scope\n",
    "\n",
    "    if equidistant == true\n",
    "        step = x1_scope/n\n",
    "        x1_set = collect(x1_min : step : x1_max)\n",
    "    else\n",
    "        x1_set = rand(x1_min : accurancy : x1_max, n)\n",
    "    end\n",
    "    x2_set = rand(x2_min : accurancy : x2_max, n)\n",
    "    return [x1_set x2_set]\n",
    "end"
   ]
  },
  {
   "cell_type": "markdown",
   "metadata": {},
   "source": [
    "## create_2D_linear_function()"
   ]
  },
  {
   "cell_type": "markdown",
   "metadata": {},
   "source": [
    "Nasledujúca funkcia berie ako vstup 2 rozmerný normálový vektor $\\underline{\\omega}$ a skalár ${b}$ z rovnice $\\underline{\\omega}\\cdot\\underline{x}+b=0$ a výstupom je funkcia priamky $f(x)$ v $R^2$."
   ]
  },
  {
   "cell_type": "code",
   "execution_count": null,
   "metadata": {},
   "outputs": [],
   "source": [
    "function create_2D_linear_function(omega,b)\n",
    "    # returns anonymous function which accepts single number 'x1' as input\n",
    "    # a*x + b*y +c = 0 --> y = -(c+ax)/b\n",
    "    # omega1*x1 + omega2*x2 + b = 0 --> x2 = -(b+w1*x1)/w2\n",
    "    w1,w2 = omega[1],omega[2]\n",
    "    f(x1) = -(b+w1*x1)/w2\n",
    "    return f\n",
    "end"
   ]
  },
  {
   "cell_type": "markdown",
   "metadata": {},
   "source": [
    "## get_minmax_vals()"
   ]
  },
  {
   "cell_type": "markdown",
   "metadata": {},
   "source": [
    "Posledná pomocná funkcia berie ako vstup $[n\\times2]$ maticu predstavujúcu celý dataset v $R^2$ a výstupom je dátový typ $tuple$, teda nemeniteľné pole $([min(x1),max(x1)],\\ [min(x2),max(x2)])$. Tieto hodnoty sa hodia pri vykresľovaní grafu. "
   ]
  },
  {
   "cell_type": "code",
   "execution_count": null,
   "metadata": {},
   "outputs": [],
   "source": [
    "function get_minmax_vals(dataset::Array, two_dimensions=true)\n",
    "    if two_dimensions != true\n",
    "        println(stderr, \"Only 2D supported, exiting...\\n\")\n",
    "        exit(1)\n",
    "    end\n",
    "    x1 = dataset[:,1]\n",
    "    x2 = dataset[:,2]\n",
    "    x1_bounds=[minimum(x1),maximum(x1)]\n",
    "    x2_bounds=[minimum(x2),maximum(x2)]\n",
    "    return x1_bounds, x2_bounds\n",
    "end"
   ]
  }
 ],
 "metadata": {
  "kernelspec": {
   "display_name": "Julia 1.1.0",
   "language": "julia",
   "name": "julia-1.1"
  },
  "language_info": {
   "file_extension": ".jl",
   "mimetype": "application/julia",
   "name": "julia",
   "version": "1.1.0"
  }
 },
 "nbformat": 4,
 "nbformat_minor": 2
}
